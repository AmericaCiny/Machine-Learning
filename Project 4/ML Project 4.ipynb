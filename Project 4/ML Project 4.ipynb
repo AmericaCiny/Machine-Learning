{
 "cells": [
  {
   "cell_type": "code",
   "execution_count": 148,
   "metadata": {},
   "outputs": [],
   "source": [
    "import pandas as pd\n",
    "import seaborn as sns\n",
    "import matplotlib.pyplot as plt\n",
    "import numpy as np"
   ]
  },
  {
   "cell_type": "markdown",
   "metadata": {},
   "source": [
    "## 1. EDA"
   ]
  },
  {
   "cell_type": "code",
   "execution_count": 149,
   "metadata": {},
   "outputs": [
    {
     "name": "stderr",
     "output_type": "stream",
     "text": [
      "<ipython-input-149-cc2511a2793d>:1: DtypeWarning: Columns (18) have mixed types. Specify dtype option on import or set low_memory=False.\n",
      "  medical = pd.read_csv('longyear-obese-hypertensive-40-57-medical-sample.csv')\n"
     ]
    }
   ],
   "source": [
    "medical = pd.read_csv('longyear-obese-hypertensive-40-57-medical-sample.csv')"
   ]
  },
  {
   "cell_type": "code",
   "execution_count": 150,
   "metadata": {},
   "outputs": [
    {
     "data": {
      "text/html": [
       "<div>\n",
       "<style scoped>\n",
       "    .dataframe tbody tr th:only-of-type {\n",
       "        vertical-align: middle;\n",
       "    }\n",
       "\n",
       "    .dataframe tbody tr th {\n",
       "        vertical-align: top;\n",
       "    }\n",
       "\n",
       "    .dataframe thead th {\n",
       "        text-align: right;\n",
       "    }\n",
       "</style>\n",
       "<table border=\"1\" class=\"dataframe\">\n",
       "  <thead>\n",
       "    <tr style=\"text-align: right;\">\n",
       "      <th></th>\n",
       "      <th>journey_id</th>\n",
       "      <th>episode_id</th>\n",
       "      <th>visit_id</th>\n",
       "      <th>encounter_id</th>\n",
       "      <th>claim_date</th>\n",
       "      <th>patient_state</th>\n",
       "      <th>patient_short_zip</th>\n",
       "      <th>patient_age</th>\n",
       "      <th>patient_gender</th>\n",
       "      <th>place_of_service</th>\n",
       "      <th>...</th>\n",
       "      <th>diag_4</th>\n",
       "      <th>diag_5</th>\n",
       "      <th>rev_center_code</th>\n",
       "      <th>rev_center_units</th>\n",
       "      <th>proc_code</th>\n",
       "      <th>proc_modifier</th>\n",
       "      <th>proc_units</th>\n",
       "      <th>line_charge</th>\n",
       "      <th>claim_charge</th>\n",
       "      <th>smart_allowed</th>\n",
       "    </tr>\n",
       "  </thead>\n",
       "  <tbody>\n",
       "    <tr>\n",
       "      <th>0</th>\n",
       "      <td>00006390c96ebfffed580074c35a16a7</td>\n",
       "      <td>d5e15811af1d772f54af52f3560be0a5</td>\n",
       "      <td>f22b7ab885c44afae5449d74f8498f53aea1b2cfa79598...</td>\n",
       "      <td>d5a7dc61071d977cef9ff762973d360f4bcf15a19790d9...</td>\n",
       "      <td>2020-07-13</td>\n",
       "      <td>CA</td>\n",
       "      <td>922.0</td>\n",
       "      <td>55.0</td>\n",
       "      <td>M</td>\n",
       "      <td>Home</td>\n",
       "      <td>...</td>\n",
       "      <td>NaN</td>\n",
       "      <td>NaN</td>\n",
       "      <td>NaN</td>\n",
       "      <td>1.0</td>\n",
       "      <td>A6549</td>\n",
       "      <td>NU</td>\n",
       "      <td>2.0</td>\n",
       "      <td>300.00</td>\n",
       "      <td>300.00</td>\n",
       "      <td>974.13</td>\n",
       "    </tr>\n",
       "    <tr>\n",
       "      <th>1</th>\n",
       "      <td>00006390c96ebfffed580074c35a16a7</td>\n",
       "      <td>d5e15811af1d772f54af52f3560be0a5</td>\n",
       "      <td>f22b7ab885c44afae5449d74f8498f53aea1b2cfa79598...</td>\n",
       "      <td>d5a7dc61071d977cef9ff762973d360f4bcf15a19790d9...</td>\n",
       "      <td>2020-07-13</td>\n",
       "      <td>CA</td>\n",
       "      <td>922.0</td>\n",
       "      <td>55.0</td>\n",
       "      <td>M</td>\n",
       "      <td>Home</td>\n",
       "      <td>...</td>\n",
       "      <td>NaN</td>\n",
       "      <td>NaN</td>\n",
       "      <td>NaN</td>\n",
       "      <td>1.0</td>\n",
       "      <td>A6549</td>\n",
       "      <td>NU</td>\n",
       "      <td>2.0</td>\n",
       "      <td>300.00</td>\n",
       "      <td>300.00</td>\n",
       "      <td>974.13</td>\n",
       "    </tr>\n",
       "    <tr>\n",
       "      <th>2</th>\n",
       "      <td>00006390c96ebfffed580074c35a16a7</td>\n",
       "      <td>e25e5285e4f66d35c9840bf4e040fe73</td>\n",
       "      <td>3f45ba8ebef02b0c09b09e864e57ba5ee9d6bc9acf1c39...</td>\n",
       "      <td>c60da949b58f0351c8781c062f65d92bce76d9532d1632...</td>\n",
       "      <td>2023-07-19</td>\n",
       "      <td>CA</td>\n",
       "      <td>922.0</td>\n",
       "      <td>60.0</td>\n",
       "      <td>M</td>\n",
       "      <td>Office</td>\n",
       "      <td>...</td>\n",
       "      <td>L03115</td>\n",
       "      <td>L03116</td>\n",
       "      <td>NaN</td>\n",
       "      <td>1.0</td>\n",
       "      <td>3074F</td>\n",
       "      <td>NaN</td>\n",
       "      <td>1.0</td>\n",
       "      <td>0.00</td>\n",
       "      <td>0.00</td>\n",
       "      <td>46.57</td>\n",
       "    </tr>\n",
       "    <tr>\n",
       "      <th>3</th>\n",
       "      <td>00006390c96ebfffed580074c35a16a7</td>\n",
       "      <td>e25e5285e4f66d35c9840bf4e040fe73</td>\n",
       "      <td>3f45ba8ebef02b0c09b09e864e57ba5ee9d6bc9acf1c39...</td>\n",
       "      <td>c60da949b58f0351c8781c062f65d92bce76d9532d1632...</td>\n",
       "      <td>2023-07-19</td>\n",
       "      <td>CA</td>\n",
       "      <td>922.0</td>\n",
       "      <td>60.0</td>\n",
       "      <td>M</td>\n",
       "      <td>Office</td>\n",
       "      <td>...</td>\n",
       "      <td>L03115</td>\n",
       "      <td>L03116</td>\n",
       "      <td>NaN</td>\n",
       "      <td>1.0</td>\n",
       "      <td>3078F</td>\n",
       "      <td>NaN</td>\n",
       "      <td>1.0</td>\n",
       "      <td>0.00</td>\n",
       "      <td>0.00</td>\n",
       "      <td>56.38</td>\n",
       "    </tr>\n",
       "    <tr>\n",
       "      <th>4</th>\n",
       "      <td>00006d564a4718c744f1bbf1b6c5f8c3</td>\n",
       "      <td>42ba4419d9ad7c9293d76686fb608f10</td>\n",
       "      <td>9e4534892128401c693a6ab2ea758cd6a0a6484972168b...</td>\n",
       "      <td>da5cef18317c14180ed561a84001d8a033d724d541a2c0...</td>\n",
       "      <td>2023-08-11</td>\n",
       "      <td>CA</td>\n",
       "      <td>900.0</td>\n",
       "      <td>55.0</td>\n",
       "      <td>F</td>\n",
       "      <td>Independent Laboratory</td>\n",
       "      <td>...</td>\n",
       "      <td>NaN</td>\n",
       "      <td>NaN</td>\n",
       "      <td>NaN</td>\n",
       "      <td>1.0</td>\n",
       "      <td>80053</td>\n",
       "      <td>NaN</td>\n",
       "      <td>1.0</td>\n",
       "      <td>88.07</td>\n",
       "      <td>88.07</td>\n",
       "      <td>15.16</td>\n",
       "    </tr>\n",
       "  </tbody>\n",
       "</table>\n",
       "<p>5 rows × 34 columns</p>\n",
       "</div>"
      ],
      "text/plain": [
       "                         journey_id                        episode_id  \\\n",
       "0  00006390c96ebfffed580074c35a16a7  d5e15811af1d772f54af52f3560be0a5   \n",
       "1  00006390c96ebfffed580074c35a16a7  d5e15811af1d772f54af52f3560be0a5   \n",
       "2  00006390c96ebfffed580074c35a16a7  e25e5285e4f66d35c9840bf4e040fe73   \n",
       "3  00006390c96ebfffed580074c35a16a7  e25e5285e4f66d35c9840bf4e040fe73   \n",
       "4  00006d564a4718c744f1bbf1b6c5f8c3  42ba4419d9ad7c9293d76686fb608f10   \n",
       "\n",
       "                                            visit_id  \\\n",
       "0  f22b7ab885c44afae5449d74f8498f53aea1b2cfa79598...   \n",
       "1  f22b7ab885c44afae5449d74f8498f53aea1b2cfa79598...   \n",
       "2  3f45ba8ebef02b0c09b09e864e57ba5ee9d6bc9acf1c39...   \n",
       "3  3f45ba8ebef02b0c09b09e864e57ba5ee9d6bc9acf1c39...   \n",
       "4  9e4534892128401c693a6ab2ea758cd6a0a6484972168b...   \n",
       "\n",
       "                                        encounter_id  claim_date  \\\n",
       "0  d5a7dc61071d977cef9ff762973d360f4bcf15a19790d9...  2020-07-13   \n",
       "1  d5a7dc61071d977cef9ff762973d360f4bcf15a19790d9...  2020-07-13   \n",
       "2  c60da949b58f0351c8781c062f65d92bce76d9532d1632...  2023-07-19   \n",
       "3  c60da949b58f0351c8781c062f65d92bce76d9532d1632...  2023-07-19   \n",
       "4  da5cef18317c14180ed561a84001d8a033d724d541a2c0...  2023-08-11   \n",
       "\n",
       "  patient_state  patient_short_zip  patient_age patient_gender  \\\n",
       "0            CA              922.0         55.0              M   \n",
       "1            CA              922.0         55.0              M   \n",
       "2            CA              922.0         60.0              M   \n",
       "3            CA              922.0         60.0              M   \n",
       "4            CA              900.0         55.0              F   \n",
       "\n",
       "         place_of_service  ...  diag_4  diag_5 rev_center_code  \\\n",
       "0                    Home  ...     NaN     NaN             NaN   \n",
       "1                    Home  ...     NaN     NaN             NaN   \n",
       "2                  Office  ...  L03115  L03116             NaN   \n",
       "3                  Office  ...  L03115  L03116             NaN   \n",
       "4  Independent Laboratory  ...     NaN     NaN             NaN   \n",
       "\n",
       "   rev_center_units  proc_code proc_modifier proc_units  line_charge  \\\n",
       "0               1.0      A6549            NU        2.0       300.00   \n",
       "1               1.0      A6549            NU        2.0       300.00   \n",
       "2               1.0      3074F           NaN        1.0         0.00   \n",
       "3               1.0      3078F           NaN        1.0         0.00   \n",
       "4               1.0      80053           NaN        1.0        88.07   \n",
       "\n",
       "  claim_charge smart_allowed  \n",
       "0       300.00        974.13  \n",
       "1       300.00        974.13  \n",
       "2         0.00         46.57  \n",
       "3         0.00         56.38  \n",
       "4        88.07         15.16  \n",
       "\n",
       "[5 rows x 34 columns]"
      ]
     },
     "execution_count": 150,
     "metadata": {},
     "output_type": "execute_result"
    }
   ],
   "source": [
    "medical.head()"
   ]
  },
  {
   "cell_type": "code",
   "execution_count": 151,
   "metadata": {},
   "outputs": [
    {
     "data": {
      "text/plain": [
       "(5000000, 34)"
      ]
     },
     "execution_count": 151,
     "metadata": {},
     "output_type": "execute_result"
    }
   ],
   "source": [
    "medical.shape"
   ]
  },
  {
   "cell_type": "code",
   "execution_count": 152,
   "metadata": {},
   "outputs": [],
   "source": [
    "medical_small = pd.read_csv('longyear-obese-hypertensive-40-57-medical-SMALL-sample.csv')"
   ]
  },
  {
   "cell_type": "code",
   "execution_count": 153,
   "metadata": {},
   "outputs": [
    {
     "data": {
      "text/html": [
       "<div>\n",
       "<style scoped>\n",
       "    .dataframe tbody tr th:only-of-type {\n",
       "        vertical-align: middle;\n",
       "    }\n",
       "\n",
       "    .dataframe tbody tr th {\n",
       "        vertical-align: top;\n",
       "    }\n",
       "\n",
       "    .dataframe thead th {\n",
       "        text-align: right;\n",
       "    }\n",
       "</style>\n",
       "<table border=\"1\" class=\"dataframe\">\n",
       "  <thead>\n",
       "    <tr style=\"text-align: right;\">\n",
       "      <th></th>\n",
       "      <th>journey_id</th>\n",
       "      <th>episode_id</th>\n",
       "      <th>visit_id</th>\n",
       "      <th>encounter_id</th>\n",
       "      <th>claim_date</th>\n",
       "      <th>patient_state</th>\n",
       "      <th>patient_short_zip</th>\n",
       "      <th>patient_age</th>\n",
       "      <th>patient_gender</th>\n",
       "      <th>place_of_service</th>\n",
       "      <th>...</th>\n",
       "      <th>diag_4</th>\n",
       "      <th>diag_5</th>\n",
       "      <th>rev_center_code</th>\n",
       "      <th>rev_center_units</th>\n",
       "      <th>proc_code</th>\n",
       "      <th>proc_modifier</th>\n",
       "      <th>proc_units</th>\n",
       "      <th>line_charge</th>\n",
       "      <th>claim_charge</th>\n",
       "      <th>smart_allowed</th>\n",
       "    </tr>\n",
       "  </thead>\n",
       "  <tbody>\n",
       "    <tr>\n",
       "      <th>0</th>\n",
       "      <td>00006390c96ebfffed580074c35a16a7</td>\n",
       "      <td>d5e15811af1d772f54af52f3560be0a5</td>\n",
       "      <td>f22b7ab885c44afae5449d74f8498f53aea1b2cfa79598...</td>\n",
       "      <td>d5a7dc61071d977cef9ff762973d360f4bcf15a19790d9...</td>\n",
       "      <td>2020-07-13</td>\n",
       "      <td>CA</td>\n",
       "      <td>922.0</td>\n",
       "      <td>55.0</td>\n",
       "      <td>M</td>\n",
       "      <td>Home</td>\n",
       "      <td>...</td>\n",
       "      <td>NaN</td>\n",
       "      <td>NaN</td>\n",
       "      <td>NaN</td>\n",
       "      <td>1.0</td>\n",
       "      <td>A6549</td>\n",
       "      <td>NU</td>\n",
       "      <td>2.0</td>\n",
       "      <td>300.00</td>\n",
       "      <td>300.00</td>\n",
       "      <td>974.13</td>\n",
       "    </tr>\n",
       "    <tr>\n",
       "      <th>1</th>\n",
       "      <td>00006390c96ebfffed580074c35a16a7</td>\n",
       "      <td>d5e15811af1d772f54af52f3560be0a5</td>\n",
       "      <td>f22b7ab885c44afae5449d74f8498f53aea1b2cfa79598...</td>\n",
       "      <td>d5a7dc61071d977cef9ff762973d360f4bcf15a19790d9...</td>\n",
       "      <td>2020-07-13</td>\n",
       "      <td>CA</td>\n",
       "      <td>922.0</td>\n",
       "      <td>55.0</td>\n",
       "      <td>M</td>\n",
       "      <td>Home</td>\n",
       "      <td>...</td>\n",
       "      <td>NaN</td>\n",
       "      <td>NaN</td>\n",
       "      <td>NaN</td>\n",
       "      <td>1.0</td>\n",
       "      <td>A6549</td>\n",
       "      <td>NU</td>\n",
       "      <td>2.0</td>\n",
       "      <td>300.00</td>\n",
       "      <td>300.00</td>\n",
       "      <td>974.13</td>\n",
       "    </tr>\n",
       "    <tr>\n",
       "      <th>2</th>\n",
       "      <td>00006390c96ebfffed580074c35a16a7</td>\n",
       "      <td>e25e5285e4f66d35c9840bf4e040fe73</td>\n",
       "      <td>3f45ba8ebef02b0c09b09e864e57ba5ee9d6bc9acf1c39...</td>\n",
       "      <td>c60da949b58f0351c8781c062f65d92bce76d9532d1632...</td>\n",
       "      <td>2023-07-19</td>\n",
       "      <td>CA</td>\n",
       "      <td>922.0</td>\n",
       "      <td>60.0</td>\n",
       "      <td>M</td>\n",
       "      <td>Office</td>\n",
       "      <td>...</td>\n",
       "      <td>L03115</td>\n",
       "      <td>L03116</td>\n",
       "      <td>NaN</td>\n",
       "      <td>1.0</td>\n",
       "      <td>3074F</td>\n",
       "      <td>NaN</td>\n",
       "      <td>1.0</td>\n",
       "      <td>0.00</td>\n",
       "      <td>0.00</td>\n",
       "      <td>46.57</td>\n",
       "    </tr>\n",
       "    <tr>\n",
       "      <th>3</th>\n",
       "      <td>00006390c96ebfffed580074c35a16a7</td>\n",
       "      <td>e25e5285e4f66d35c9840bf4e040fe73</td>\n",
       "      <td>3f45ba8ebef02b0c09b09e864e57ba5ee9d6bc9acf1c39...</td>\n",
       "      <td>c60da949b58f0351c8781c062f65d92bce76d9532d1632...</td>\n",
       "      <td>2023-07-19</td>\n",
       "      <td>CA</td>\n",
       "      <td>922.0</td>\n",
       "      <td>60.0</td>\n",
       "      <td>M</td>\n",
       "      <td>Office</td>\n",
       "      <td>...</td>\n",
       "      <td>L03115</td>\n",
       "      <td>L03116</td>\n",
       "      <td>NaN</td>\n",
       "      <td>1.0</td>\n",
       "      <td>3078F</td>\n",
       "      <td>NaN</td>\n",
       "      <td>1.0</td>\n",
       "      <td>0.00</td>\n",
       "      <td>0.00</td>\n",
       "      <td>56.38</td>\n",
       "    </tr>\n",
       "    <tr>\n",
       "      <th>4</th>\n",
       "      <td>00006d564a4718c744f1bbf1b6c5f8c3</td>\n",
       "      <td>42ba4419d9ad7c9293d76686fb608f10</td>\n",
       "      <td>9e4534892128401c693a6ab2ea758cd6a0a6484972168b...</td>\n",
       "      <td>da5cef18317c14180ed561a84001d8a033d724d541a2c0...</td>\n",
       "      <td>2023-08-11</td>\n",
       "      <td>CA</td>\n",
       "      <td>900.0</td>\n",
       "      <td>55.0</td>\n",
       "      <td>F</td>\n",
       "      <td>Independent Laboratory</td>\n",
       "      <td>...</td>\n",
       "      <td>NaN</td>\n",
       "      <td>NaN</td>\n",
       "      <td>NaN</td>\n",
       "      <td>1.0</td>\n",
       "      <td>80053</td>\n",
       "      <td>NaN</td>\n",
       "      <td>1.0</td>\n",
       "      <td>88.07</td>\n",
       "      <td>88.07</td>\n",
       "      <td>15.16</td>\n",
       "    </tr>\n",
       "  </tbody>\n",
       "</table>\n",
       "<p>5 rows × 34 columns</p>\n",
       "</div>"
      ],
      "text/plain": [
       "                         journey_id                        episode_id  \\\n",
       "0  00006390c96ebfffed580074c35a16a7  d5e15811af1d772f54af52f3560be0a5   \n",
       "1  00006390c96ebfffed580074c35a16a7  d5e15811af1d772f54af52f3560be0a5   \n",
       "2  00006390c96ebfffed580074c35a16a7  e25e5285e4f66d35c9840bf4e040fe73   \n",
       "3  00006390c96ebfffed580074c35a16a7  e25e5285e4f66d35c9840bf4e040fe73   \n",
       "4  00006d564a4718c744f1bbf1b6c5f8c3  42ba4419d9ad7c9293d76686fb608f10   \n",
       "\n",
       "                                            visit_id  \\\n",
       "0  f22b7ab885c44afae5449d74f8498f53aea1b2cfa79598...   \n",
       "1  f22b7ab885c44afae5449d74f8498f53aea1b2cfa79598...   \n",
       "2  3f45ba8ebef02b0c09b09e864e57ba5ee9d6bc9acf1c39...   \n",
       "3  3f45ba8ebef02b0c09b09e864e57ba5ee9d6bc9acf1c39...   \n",
       "4  9e4534892128401c693a6ab2ea758cd6a0a6484972168b...   \n",
       "\n",
       "                                        encounter_id  claim_date  \\\n",
       "0  d5a7dc61071d977cef9ff762973d360f4bcf15a19790d9...  2020-07-13   \n",
       "1  d5a7dc61071d977cef9ff762973d360f4bcf15a19790d9...  2020-07-13   \n",
       "2  c60da949b58f0351c8781c062f65d92bce76d9532d1632...  2023-07-19   \n",
       "3  c60da949b58f0351c8781c062f65d92bce76d9532d1632...  2023-07-19   \n",
       "4  da5cef18317c14180ed561a84001d8a033d724d541a2c0...  2023-08-11   \n",
       "\n",
       "  patient_state  patient_short_zip  patient_age patient_gender  \\\n",
       "0            CA              922.0         55.0              M   \n",
       "1            CA              922.0         55.0              M   \n",
       "2            CA              922.0         60.0              M   \n",
       "3            CA              922.0         60.0              M   \n",
       "4            CA              900.0         55.0              F   \n",
       "\n",
       "         place_of_service  ...  diag_4  diag_5 rev_center_code  \\\n",
       "0                    Home  ...     NaN     NaN             NaN   \n",
       "1                    Home  ...     NaN     NaN             NaN   \n",
       "2                  Office  ...  L03115  L03116             NaN   \n",
       "3                  Office  ...  L03115  L03116             NaN   \n",
       "4  Independent Laboratory  ...     NaN     NaN             NaN   \n",
       "\n",
       "   rev_center_units  proc_code proc_modifier proc_units  line_charge  \\\n",
       "0               1.0      A6549            NU        2.0       300.00   \n",
       "1               1.0      A6549            NU        2.0       300.00   \n",
       "2               1.0      3074F           NaN        1.0         0.00   \n",
       "3               1.0      3078F           NaN        1.0         0.00   \n",
       "4               1.0      80053           NaN        1.0        88.07   \n",
       "\n",
       "  claim_charge smart_allowed  \n",
       "0       300.00        974.13  \n",
       "1       300.00        974.13  \n",
       "2         0.00         46.57  \n",
       "3         0.00         56.38  \n",
       "4        88.07         15.16  \n",
       "\n",
       "[5 rows x 34 columns]"
      ]
     },
     "execution_count": 153,
     "metadata": {},
     "output_type": "execute_result"
    }
   ],
   "source": [
    "medical_small.head()"
   ]
  },
  {
   "cell_type": "code",
   "execution_count": 154,
   "metadata": {},
   "outputs": [
    {
     "data": {
      "text/plain": [
       "(623525, 34)"
      ]
     },
     "execution_count": 154,
     "metadata": {},
     "output_type": "execute_result"
    }
   ],
   "source": [
    "medical_small.shape"
   ]
  },
  {
   "cell_type": "markdown",
   "metadata": {},
   "source": [
    "It seems the difference between small sample and regular sample is just the number of rows, I will just continue with the samll sample for faster running of the script."
   ]
  },
  {
   "cell_type": "code",
   "execution_count": 155,
   "metadata": {},
   "outputs": [
    {
     "name": "stdout",
     "output_type": "stream",
     "text": [
      "<class 'pandas.core.frame.DataFrame'>\n",
      "RangeIndex: 623525 entries, 0 to 623524\n",
      "Data columns (total 34 columns):\n",
      " #   Column             Non-Null Count   Dtype  \n",
      "---  ------             --------------   -----  \n",
      " 0   journey_id         623525 non-null  object \n",
      " 1   episode_id         623525 non-null  object \n",
      " 2   visit_id           621650 non-null  object \n",
      " 3   encounter_id       623525 non-null  object \n",
      " 4   claim_date         623525 non-null  object \n",
      " 5   patient_state      623525 non-null  object \n",
      " 6   patient_short_zip  623512 non-null  float64\n",
      " 7   patient_age        616980 non-null  float64\n",
      " 8   patient_gender     623525 non-null  object \n",
      " 9   place_of_service   484555 non-null  object \n",
      " 10  visit_type         600454 non-null  object \n",
      " 11  payor              608936 non-null  object \n",
      " 12  payor_channel      586086 non-null  object \n",
      " 13  ref_npi            297501 non-null  float64\n",
      " 14  hcp_npi            434653 non-null  float64\n",
      " 15  hcp_taxonomy       428209 non-null  object \n",
      " 16  hcp_specialty      428229 non-null  object \n",
      " 17  hco_npi            617789 non-null  float64\n",
      " 18  hcp_npi_list       434653 non-null  object \n",
      " 19  hco_npi_list       617789 non-null  object \n",
      " 20  diag_list          622655 non-null  object \n",
      " 21  diag_1             622655 non-null  object \n",
      " 22  diag_2             460595 non-null  object \n",
      " 23  diag_3             365284 non-null  object \n",
      " 24  diag_4             298233 non-null  object \n",
      " 25  diag_5             205016 non-null  object \n",
      " 26  rev_center_code    113926 non-null  float64\n",
      " 27  rev_center_units   621558 non-null  float64\n",
      " 28  proc_code          599612 non-null  object \n",
      " 29  proc_modifier      165948 non-null  object \n",
      " 30  proc_units         621331 non-null  float64\n",
      " 31  line_charge        623525 non-null  float64\n",
      " 32  claim_charge       623525 non-null  float64\n",
      " 33  smart_allowed      623525 non-null  float64\n",
      "dtypes: float64(11), object(23)\n",
      "memory usage: 161.7+ MB\n"
     ]
    }
   ],
   "source": [
    "medical_small.info()"
   ]
  },
  {
   "cell_type": "code",
   "execution_count": 156,
   "metadata": {},
   "outputs": [
    {
     "data": {
      "text/html": [
       "<div>\n",
       "<style scoped>\n",
       "    .dataframe tbody tr th:only-of-type {\n",
       "        vertical-align: middle;\n",
       "    }\n",
       "\n",
       "    .dataframe tbody tr th {\n",
       "        vertical-align: top;\n",
       "    }\n",
       "\n",
       "    .dataframe thead th {\n",
       "        text-align: right;\n",
       "    }\n",
       "</style>\n",
       "<table border=\"1\" class=\"dataframe\">\n",
       "  <thead>\n",
       "    <tr style=\"text-align: right;\">\n",
       "      <th></th>\n",
       "      <th>patient_short_zip</th>\n",
       "      <th>patient_age</th>\n",
       "      <th>ref_npi</th>\n",
       "      <th>hcp_npi</th>\n",
       "      <th>hco_npi</th>\n",
       "      <th>rev_center_code</th>\n",
       "      <th>rev_center_units</th>\n",
       "      <th>proc_units</th>\n",
       "      <th>line_charge</th>\n",
       "      <th>claim_charge</th>\n",
       "      <th>smart_allowed</th>\n",
       "    </tr>\n",
       "  </thead>\n",
       "  <tbody>\n",
       "    <tr>\n",
       "      <th>count</th>\n",
       "      <td>623512.000000</td>\n",
       "      <td>616980.000000</td>\n",
       "      <td>2.975010e+05</td>\n",
       "      <td>4.346530e+05</td>\n",
       "      <td>6.177890e+05</td>\n",
       "      <td>113926.000000</td>\n",
       "      <td>621558.000000</td>\n",
       "      <td>621331.000000</td>\n",
       "      <td>623525.000000</td>\n",
       "      <td>623525.000000</td>\n",
       "      <td>623525.000000</td>\n",
       "    </tr>\n",
       "    <tr>\n",
       "      <th>mean</th>\n",
       "      <td>907.514954</td>\n",
       "      <td>59.416910</td>\n",
       "      <td>1.502083e+09</td>\n",
       "      <td>1.508734e+09</td>\n",
       "      <td>1.485095e+09</td>\n",
       "      <td>456.083449</td>\n",
       "      <td>1.243236</td>\n",
       "      <td>4.319060</td>\n",
       "      <td>482.437268</td>\n",
       "      <td>482.437268</td>\n",
       "      <td>190.295642</td>\n",
       "    </tr>\n",
       "    <tr>\n",
       "      <th>std</th>\n",
       "      <td>40.034735</td>\n",
       "      <td>9.946158</td>\n",
       "      <td>2.868359e+08</td>\n",
       "      <td>2.825083e+08</td>\n",
       "      <td>2.859965e+08</td>\n",
       "      <td>451.591644</td>\n",
       "      <td>2.458118</td>\n",
       "      <td>55.208116</td>\n",
       "      <td>3582.592825</td>\n",
       "      <td>3582.592825</td>\n",
       "      <td>509.339625</td>\n",
       "    </tr>\n",
       "    <tr>\n",
       "      <th>min</th>\n",
       "      <td>74.000000</td>\n",
       "      <td>30.000000</td>\n",
       "      <td>1.003001e+09</td>\n",
       "      <td>1.003001e+09</td>\n",
       "      <td>1.003006e+09</td>\n",
       "      <td>1.000000</td>\n",
       "      <td>-14.000000</td>\n",
       "      <td>0.000000</td>\n",
       "      <td>0.000000</td>\n",
       "      <td>0.000000</td>\n",
       "      <td>0.000000</td>\n",
       "    </tr>\n",
       "    <tr>\n",
       "      <th>25%</th>\n",
       "      <td>900.000000</td>\n",
       "      <td>55.000000</td>\n",
       "      <td>1.255437e+09</td>\n",
       "      <td>1.265668e+09</td>\n",
       "      <td>1.245340e+09</td>\n",
       "      <td>301.000000</td>\n",
       "      <td>1.000000</td>\n",
       "      <td>1.000000</td>\n",
       "      <td>10.000000</td>\n",
       "      <td>10.000000</td>\n",
       "      <td>18.190000</td>\n",
       "    </tr>\n",
       "    <tr>\n",
       "      <th>50%</th>\n",
       "      <td>911.000000</td>\n",
       "      <td>60.000000</td>\n",
       "      <td>1.508952e+09</td>\n",
       "      <td>1.528016e+09</td>\n",
       "      <td>1.467631e+09</td>\n",
       "      <td>320.000000</td>\n",
       "      <td>1.000000</td>\n",
       "      <td>1.000000</td>\n",
       "      <td>70.000000</td>\n",
       "      <td>70.000000</td>\n",
       "      <td>75.230000</td>\n",
       "    </tr>\n",
       "    <tr>\n",
       "      <th>75%</th>\n",
       "      <td>922.000000</td>\n",
       "      <td>65.000000</td>\n",
       "      <td>1.740350e+09</td>\n",
       "      <td>1.740376e+09</td>\n",
       "      <td>1.720295e+09</td>\n",
       "      <td>521.000000</td>\n",
       "      <td>1.000000</td>\n",
       "      <td>1.000000</td>\n",
       "      <td>200.000000</td>\n",
       "      <td>200.000000</td>\n",
       "      <td>182.360000</td>\n",
       "    </tr>\n",
       "    <tr>\n",
       "      <th>max</th>\n",
       "      <td>999.000000</td>\n",
       "      <td>80.000000</td>\n",
       "      <td>1.992999e+09</td>\n",
       "      <td>1.993000e+09</td>\n",
       "      <td>1.992995e+09</td>\n",
       "      <td>3103.000000</td>\n",
       "      <td>730.000000</td>\n",
       "      <td>12473.000000</td>\n",
       "      <td>778750.000000</td>\n",
       "      <td>778750.000000</td>\n",
       "      <td>45035.960000</td>\n",
       "    </tr>\n",
       "  </tbody>\n",
       "</table>\n",
       "</div>"
      ],
      "text/plain": [
       "       patient_short_zip    patient_age       ref_npi       hcp_npi  \\\n",
       "count      623512.000000  616980.000000  2.975010e+05  4.346530e+05   \n",
       "mean          907.514954      59.416910  1.502083e+09  1.508734e+09   \n",
       "std            40.034735       9.946158  2.868359e+08  2.825083e+08   \n",
       "min            74.000000      30.000000  1.003001e+09  1.003001e+09   \n",
       "25%           900.000000      55.000000  1.255437e+09  1.265668e+09   \n",
       "50%           911.000000      60.000000  1.508952e+09  1.528016e+09   \n",
       "75%           922.000000      65.000000  1.740350e+09  1.740376e+09   \n",
       "max           999.000000      80.000000  1.992999e+09  1.993000e+09   \n",
       "\n",
       "            hco_npi  rev_center_code  rev_center_units     proc_units  \\\n",
       "count  6.177890e+05    113926.000000     621558.000000  621331.000000   \n",
       "mean   1.485095e+09       456.083449          1.243236       4.319060   \n",
       "std    2.859965e+08       451.591644          2.458118      55.208116   \n",
       "min    1.003006e+09         1.000000        -14.000000       0.000000   \n",
       "25%    1.245340e+09       301.000000          1.000000       1.000000   \n",
       "50%    1.467631e+09       320.000000          1.000000       1.000000   \n",
       "75%    1.720295e+09       521.000000          1.000000       1.000000   \n",
       "max    1.992995e+09      3103.000000        730.000000   12473.000000   \n",
       "\n",
       "         line_charge   claim_charge  smart_allowed  \n",
       "count  623525.000000  623525.000000  623525.000000  \n",
       "mean      482.437268     482.437268     190.295642  \n",
       "std      3582.592825    3582.592825     509.339625  \n",
       "min         0.000000       0.000000       0.000000  \n",
       "25%        10.000000      10.000000      18.190000  \n",
       "50%        70.000000      70.000000      75.230000  \n",
       "75%       200.000000     200.000000     182.360000  \n",
       "max    778750.000000  778750.000000   45035.960000  "
      ]
     },
     "execution_count": 156,
     "metadata": {},
     "output_type": "execute_result"
    }
   ],
   "source": [
    "medical_small.describe()"
   ]
  },
  {
   "cell_type": "code",
   "execution_count": 157,
   "metadata": {},
   "outputs": [
    {
     "data": {
      "image/png": "[encoded data removed]",
      "text/plain": [
       "<Figure size 640x480 with 1 Axes>"
      ]
     },
     "metadata": {},
     "output_type": "display_data"
    }
   ],
   "source": [
    "sns.histplot(medical_small['patient_state'])\n",
    "plt.title('Distribution of Patient States')\n",
    "plt.ylabel('Number of Patients')\n",
    "plt.show()"
   ]
  },
  {
   "cell_type": "markdown",
   "metadata": {},
   "source": [
    "Most patients are from California."
   ]
  },
  {
   "cell_type": "code",
   "execution_count": 158,
   "metadata": {},
   "outputs": [
    {
     "data": {
      "image/png": "[encoded data removed]",
      "text/plain": [
       "<Figure size 640x480 with 1 Axes>"
      ]
     },
     "metadata": {},
     "output_type": "display_data"
    }
   ],
   "source": [
    "sns.histplot(medical_small['patient_age'],bins=10)\n",
    "plt.ylabel('Number of Patients')\n",
    "plt.title('Patient Age Distribution')\n",
    "plt.show()"
   ]
  },
  {
   "cell_type": "markdown",
   "metadata": {},
   "source": [
    "Almost all patients are above 35 years old and most patients are older than 60 years old"
   ]
  },
  {
   "cell_type": "code",
   "execution_count": 159,
   "metadata": {},
   "outputs": [
    {
     "data": {
      "image/png": "[encoded data removed]",
      "text/plain": [
       "<Figure size 640x480 with 1 Axes>"
      ]
     },
     "metadata": {},
     "output_type": "display_data"
    }
   ],
   "source": [
    "sns.histplot(medical_small['patient_gender'])\n",
    "plt.ylabel('Number of Patients')\n",
    "plt.title('Patient Gender Distributio')\n",
    "plt.show()"
   ]
  },
  {
   "cell_type": "markdown",
   "metadata": {},
   "source": [
    "There are moe femal patients then male patients"
   ]
  },
  {
   "cell_type": "code",
   "execution_count": 160,
   "metadata": {},
   "outputs": [
    {
     "data": {
      "text/plain": [
       "Index(['journey_id', 'episode_id', 'visit_id', 'encounter_id', 'claim_date',\n",
       "       'patient_state', 'patient_short_zip', 'patient_age', 'patient_gender',\n",
       "       'place_of_service', 'visit_type', 'payor', 'payor_channel', 'ref_npi',\n",
       "       'hcp_npi', 'hcp_taxonomy', 'hcp_specialty', 'hco_npi', 'hcp_npi_list',\n",
       "       'hco_npi_list', 'diag_list', 'diag_1', 'diag_2', 'diag_3', 'diag_4',\n",
       "       'diag_5', 'rev_center_code', 'rev_center_units', 'proc_code',\n",
       "       'proc_modifier', 'proc_units', 'line_charge', 'claim_charge',\n",
       "       'smart_allowed'],\n",
       "      dtype='object')"
      ]
     },
     "execution_count": 160,
     "metadata": {},
     "output_type": "execute_result"
    }
   ],
   "source": [
    "medical_small.columns"
   ]
  },
  {
   "cell_type": "code",
   "execution_count": 161,
   "metadata": {},
   "outputs": [
    {
     "data": {
      "image/png": "[encoded data removed]",
      "text/plain": [
       "<Figure size 1200x600 with 1 Axes>"
      ]
     },
     "metadata": {},
     "output_type": "display_data"
    }
   ],
   "source": [
    "plt.figure(figsize = (12,6))\n",
    "sns.histplot(medical_small['visit_type'])\n",
    "plt.ylabel('Number of Visits')\n",
    "plt.title('Distirbution of Visit Type')\n",
    "# Rotate the xsticks so they don't overlap\n",
    "plt.xticks(rotation=45)\n",
    "plt.tight_layout() \n",
    "plt.show()"
   ]
  },
  {
   "cell_type": "markdown",
   "metadata": {},
   "source": [
    "Outpatient visit is the most frequent visit in the dataset, it might indicate that most visits are not medical emergencies,"
   ]
  },
  {
   "cell_type": "code",
   "execution_count": 162,
   "metadata": {},
   "outputs": [
    {
     "data": {
      "image/png": "[encoded data removed]",
      "text/plain": [
       "<Figure size 640x480 with 1 Axes>"
      ]
     },
     "metadata": {},
     "output_type": "display_data"
    }
   ],
   "source": [
    "sns.scatterplot(x = 'journey_id', y ='smart_allowed', data = medical_small)\n",
    "plt.show()"
   ]
  },
  {
   "cell_type": "markdown",
   "metadata": {},
   "source": [
    "Most patients paid less than $10000 throughout the entire patient journey. "
   ]
  },
  {
   "cell_type": "code",
   "execution_count": 163,
   "metadata": {},
   "outputs": [
    {
     "data": {
      "image/png": "[encoded data removed]",
      "text/plain": [
       "<Figure size 640x480 with 1 Axes>"
      ]
     },
     "metadata": {},
     "output_type": "display_data"
    }
   ],
   "source": [
    "sns.histplot(medical_small['smart_allowed'], bins = 50)\n",
    "plt.xlabel('Amount of Money Paid')\n",
    "plt.title('Distribution of Money Paid')\n",
    "plt.show()"
   ]
  },
  {
   "cell_type": "markdown",
   "metadata": {},
   "source": [
    "Need to log the Y value because the data has a long-tailed distribution"
   ]
  },
  {
   "cell_type": "code",
   "execution_count": 164,
   "metadata": {},
   "outputs": [
    {
     "data": {
      "image/png": "[encoded data removed]",
      "text/plain": [
       "<Figure size 640x480 with 1 Axes>"
      ]
     },
     "metadata": {},
     "output_type": "display_data"
    }
   ],
   "source": [
    "sns.histplot(medical_small['smart_allowed'], bins=10)\n",
    "plt.xlabel('Amount of Money Paid')\n",
    "plt.title('Distribution of Money Paid')\n",
    "plt.yscale('log')  # Set the y-axis to a log scale\n",
    "plt.show()"
   ]
  },
  {
   "cell_type": "code",
   "execution_count": 165,
   "metadata": {},
   "outputs": [
    {
     "name": "stderr",
     "output_type": "stream",
     "text": [
      "<ipython-input-165-c6c15b819640>:1: DtypeWarning: Columns (5) have mixed types. Specify dtype option on import or set low_memory=False.\n",
      "  prescription_samll = pd.read_csv('longyear-obese-hypertensive-40-75-scripts-SMALL-sample.csv')\n"
     ]
    }
   ],
   "source": [
    "prescription_samll = pd.read_csv('longyear-obese-hypertensive-40-75-scripts-SMALL-sample.csv')"
   ]
  },
  {
   "cell_type": "code",
   "execution_count": 166,
   "metadata": {},
   "outputs": [
    {
     "data": {
      "text/html": [
       "<div>\n",
       "<style scoped>\n",
       "    .dataframe tbody tr th:only-of-type {\n",
       "        vertical-align: middle;\n",
       "    }\n",
       "\n",
       "    .dataframe tbody tr th {\n",
       "        vertical-align: top;\n",
       "    }\n",
       "\n",
       "    .dataframe thead th {\n",
       "        text-align: right;\n",
       "    }\n",
       "</style>\n",
       "<table border=\"1\" class=\"dataframe\">\n",
       "  <thead>\n",
       "    <tr style=\"text-align: right;\">\n",
       "      <th></th>\n",
       "      <th>journey_id</th>\n",
       "      <th>cohort_id</th>\n",
       "      <th>claim_id</th>\n",
       "      <th>patient_gender</th>\n",
       "      <th>patient_state</th>\n",
       "      <th>patient_zip</th>\n",
       "      <th>patient_dob</th>\n",
       "      <th>pharmacy_npi</th>\n",
       "      <th>pharmacist_npi</th>\n",
       "      <th>prescriber_npi</th>\n",
       "      <th>...</th>\n",
       "      <th>bin</th>\n",
       "      <th>plan_pay</th>\n",
       "      <th>reject_code_1</th>\n",
       "      <th>reject_code_3</th>\n",
       "      <th>reject_code_4</th>\n",
       "      <th>reject_code_5</th>\n",
       "      <th>ndc</th>\n",
       "      <th>active</th>\n",
       "      <th>start_date</th>\n",
       "      <th>end_date</th>\n",
       "    </tr>\n",
       "  </thead>\n",
       "  <tbody>\n",
       "    <tr>\n",
       "      <th>0</th>\n",
       "      <td>00006390c96ebfffed580074c35a16a7</td>\n",
       "      <td>16</td>\n",
       "      <td>60618bd8d37311da702bf9349e76f8c26d515c082e136f...</td>\n",
       "      <td>M</td>\n",
       "      <td>CA</td>\n",
       "      <td>922</td>\n",
       "      <td>1961-01-01</td>\n",
       "      <td>1215361126</td>\n",
       "      <td>None</td>\n",
       "      <td>1750479168</td>\n",
       "      <td>...</td>\n",
       "      <td>022659</td>\n",
       "      <td>NaN</td>\n",
       "      <td>None</td>\n",
       "      <td>None</td>\n",
       "      <td>None</td>\n",
       "      <td>None</td>\n",
       "      <td>47335067381</td>\n",
       "      <td>True</td>\n",
       "      <td>190001</td>\n",
       "      <td>None</td>\n",
       "    </tr>\n",
       "    <tr>\n",
       "      <th>1</th>\n",
       "      <td>00006390c96ebfffed580074c35a16a7</td>\n",
       "      <td>16</td>\n",
       "      <td>dbeb47defd161331e43f4e359e8d43e4ef7546ff58359b...</td>\n",
       "      <td>M</td>\n",
       "      <td>CA</td>\n",
       "      <td>922</td>\n",
       "      <td>1961-01-01</td>\n",
       "      <td>1215361126</td>\n",
       "      <td>None</td>\n",
       "      <td>1750479168</td>\n",
       "      <td>...</td>\n",
       "      <td>022659</td>\n",
       "      <td>NaN</td>\n",
       "      <td>None</td>\n",
       "      <td>None</td>\n",
       "      <td>None</td>\n",
       "      <td>None</td>\n",
       "      <td>47335067381</td>\n",
       "      <td>True</td>\n",
       "      <td>190001</td>\n",
       "      <td>None</td>\n",
       "    </tr>\n",
       "    <tr>\n",
       "      <th>2</th>\n",
       "      <td>00006390c96ebfffed580074c35a16a7</td>\n",
       "      <td>16</td>\n",
       "      <td>02927d081fad10afffcba79bad27f94ff52c98e968aaec...</td>\n",
       "      <td>M</td>\n",
       "      <td>CA</td>\n",
       "      <td>922</td>\n",
       "      <td>1961-01-01</td>\n",
       "      <td>1215361126</td>\n",
       "      <td>None</td>\n",
       "      <td>1750479168</td>\n",
       "      <td>...</td>\n",
       "      <td>022659</td>\n",
       "      <td>NaN</td>\n",
       "      <td>None</td>\n",
       "      <td>None</td>\n",
       "      <td>None</td>\n",
       "      <td>None</td>\n",
       "      <td>47335067381</td>\n",
       "      <td>True</td>\n",
       "      <td>190001</td>\n",
       "      <td>None</td>\n",
       "    </tr>\n",
       "    <tr>\n",
       "      <th>3</th>\n",
       "      <td>00006390c96ebfffed580074c35a16a7</td>\n",
       "      <td>16</td>\n",
       "      <td>a412c986e2503a5140ed1482e88b5ec50feeedaf2d89ec...</td>\n",
       "      <td>M</td>\n",
       "      <td>CA</td>\n",
       "      <td>922</td>\n",
       "      <td>1961-01-01</td>\n",
       "      <td>1215361126</td>\n",
       "      <td>None</td>\n",
       "      <td>1750479168</td>\n",
       "      <td>...</td>\n",
       "      <td>022659</td>\n",
       "      <td>NaN</td>\n",
       "      <td>None</td>\n",
       "      <td>None</td>\n",
       "      <td>None</td>\n",
       "      <td>None</td>\n",
       "      <td>47335067381</td>\n",
       "      <td>True</td>\n",
       "      <td>190001</td>\n",
       "      <td>None</td>\n",
       "    </tr>\n",
       "    <tr>\n",
       "      <th>4</th>\n",
       "      <td>00006390c96ebfffed580074c35a16a7</td>\n",
       "      <td>16</td>\n",
       "      <td>b65634edd78998753fe9606b142b2fff7765d6c576973c...</td>\n",
       "      <td>M</td>\n",
       "      <td>CA</td>\n",
       "      <td>922</td>\n",
       "      <td>1961-01-01</td>\n",
       "      <td>1215361126</td>\n",
       "      <td>None</td>\n",
       "      <td>1750479168</td>\n",
       "      <td>...</td>\n",
       "      <td>022659</td>\n",
       "      <td>NaN</td>\n",
       "      <td>None</td>\n",
       "      <td>None</td>\n",
       "      <td>None</td>\n",
       "      <td>None</td>\n",
       "      <td>65862059805</td>\n",
       "      <td>True</td>\n",
       "      <td>190001</td>\n",
       "      <td>None</td>\n",
       "    </tr>\n",
       "  </tbody>\n",
       "</table>\n",
       "<p>5 rows × 48 columns</p>\n",
       "</div>"
      ],
      "text/plain": [
       "                         journey_id  cohort_id  \\\n",
       "0  00006390c96ebfffed580074c35a16a7         16   \n",
       "1  00006390c96ebfffed580074c35a16a7         16   \n",
       "2  00006390c96ebfffed580074c35a16a7         16   \n",
       "3  00006390c96ebfffed580074c35a16a7         16   \n",
       "4  00006390c96ebfffed580074c35a16a7         16   \n",
       "\n",
       "                                            claim_id patient_gender  \\\n",
       "0  60618bd8d37311da702bf9349e76f8c26d515c082e136f...              M   \n",
       "1  dbeb47defd161331e43f4e359e8d43e4ef7546ff58359b...              M   \n",
       "2  02927d081fad10afffcba79bad27f94ff52c98e968aaec...              M   \n",
       "3  a412c986e2503a5140ed1482e88b5ec50feeedaf2d89ec...              M   \n",
       "4  b65634edd78998753fe9606b142b2fff7765d6c576973c...              M   \n",
       "\n",
       "  patient_state patient_zip patient_dob pharmacy_npi pharmacist_npi  \\\n",
       "0            CA         922  1961-01-01   1215361126           None   \n",
       "1            CA         922  1961-01-01   1215361126           None   \n",
       "2            CA         922  1961-01-01   1215361126           None   \n",
       "3            CA         922  1961-01-01   1215361126           None   \n",
       "4            CA         922  1961-01-01   1215361126           None   \n",
       "\n",
       "  prescriber_npi  ...     bin plan_pay reject_code_1 reject_code_3  \\\n",
       "0     1750479168  ...  022659      NaN          None          None   \n",
       "1     1750479168  ...  022659      NaN          None          None   \n",
       "2     1750479168  ...  022659      NaN          None          None   \n",
       "3     1750479168  ...  022659      NaN          None          None   \n",
       "4     1750479168  ...  022659      NaN          None          None   \n",
       "\n",
       "  reject_code_4 reject_code_5          ndc active  start_date end_date  \n",
       "0          None          None  47335067381   True      190001     None  \n",
       "1          None          None  47335067381   True      190001     None  \n",
       "2          None          None  47335067381   True      190001     None  \n",
       "3          None          None  47335067381   True      190001     None  \n",
       "4          None          None  65862059805   True      190001     None  \n",
       "\n",
       "[5 rows x 48 columns]"
      ]
     },
     "execution_count": 166,
     "metadata": {},
     "output_type": "execute_result"
    }
   ],
   "source": [
    "prescription_samll.head()"
   ]
  },
  {
   "cell_type": "code",
   "execution_count": 167,
   "metadata": {},
   "outputs": [
    {
     "data": {
      "text/plain": [
       "(894623, 48)"
      ]
     },
     "execution_count": 167,
     "metadata": {},
     "output_type": "execute_result"
    }
   ],
   "source": [
    "prescription_samll.shape"
   ]
  },
  {
   "cell_type": "code",
   "execution_count": 168,
   "metadata": {},
   "outputs": [
    {
     "name": "stdout",
     "output_type": "stream",
     "text": [
      "<class 'pandas.core.frame.DataFrame'>\n",
      "RangeIndex: 894623 entries, 0 to 894622\n",
      "Data columns (total 48 columns):\n",
      " #   Column                         Non-Null Count   Dtype  \n",
      "---  ------                         --------------   -----  \n",
      " 0   journey_id                     894623 non-null  object \n",
      " 1   cohort_id                      894623 non-null  int64  \n",
      " 2   claim_id                       894623 non-null  object \n",
      " 3   patient_gender                 894623 non-null  object \n",
      " 4   patient_state                  894623 non-null  object \n",
      " 5   patient_zip                    894623 non-null  object \n",
      " 6   patient_dob                    894623 non-null  object \n",
      " 7   pharmacy_npi                   894623 non-null  object \n",
      " 8   pharmacist_npi                 894623 non-null  object \n",
      " 9   prescriber_npi                 894623 non-null  object \n",
      " 10  primary_care_npi               894623 non-null  object \n",
      " 11  group_id                       894623 non-null  object \n",
      " 12  date_of_service                894623 non-null  object \n",
      " 13  date_authorized                894623 non-null  object \n",
      " 14  transaction_type               894623 non-null  object \n",
      " 15  date_prescription_written      894623 non-null  object \n",
      " 16  ndc11                          894623 non-null  int64  \n",
      " 17  ndc11_original                 894623 non-null  object \n",
      " 18  number_of_refills_authorized   849519 non-null  float64\n",
      " 19  diagnosis_code                 814075 non-null  object \n",
      " 20  diagnosis_code_type            894623 non-null  object \n",
      " 21  quantity_prescribed_original   322348 non-null  float64\n",
      " 22  quantity_dispensed             894616 non-null  float64\n",
      " 23  place_of_service               894623 non-null  object \n",
      " 24  is_service                     894623 non-null  object \n",
      " 25  level_of_service               894623 non-null  object \n",
      " 26  fill_number                    894623 non-null  float64\n",
      " 27  days_supply                    894623 non-null  float64\n",
      " 28  unit_of_measure                890394 non-null  object \n",
      " 29  daw_code                       231181 non-null  object \n",
      " 30  prior_authorization_type_code  619143 non-null  object \n",
      " 31  is_compound_drug               894623 non-null  object \n",
      " 32  coupon_type                    894623 non-null  object \n",
      " 33  coupon_value_amount            5 non-null       float64\n",
      " 34  pharmacy_submitted_cost        785081 non-null  float64\n",
      " 35  patient_pay                    601820 non-null  float64\n",
      " 36  copay_coinsurance              411383 non-null  float64\n",
      " 37  pcn                            894617 non-null  object \n",
      " 38  bin                            894623 non-null  object \n",
      " 39  plan_pay                       491878 non-null  float64\n",
      " 40  reject_code_1                  894623 non-null  object \n",
      " 41  reject_code_3                  894623 non-null  object \n",
      " 42  reject_code_4                  894623 non-null  object \n",
      " 43  reject_code_5                  894623 non-null  object \n",
      " 44  ndc                            894623 non-null  int64  \n",
      " 45  active                         894623 non-null  bool   \n",
      " 46  start_date                     894623 non-null  int64  \n",
      " 47  end_date                       894623 non-null  object \n",
      "dtypes: bool(1), float64(10), int64(4), object(33)\n",
      "memory usage: 321.6+ MB\n"
     ]
    }
   ],
   "source": [
    "prescription_samll.info()"
   ]
  },
  {
   "cell_type": "code",
   "execution_count": 169,
   "metadata": {},
   "outputs": [
    {
     "data": {
      "text/html": [
       "<div>\n",
       "<style scoped>\n",
       "    .dataframe tbody tr th:only-of-type {\n",
       "        vertical-align: middle;\n",
       "    }\n",
       "\n",
       "    .dataframe tbody tr th {\n",
       "        vertical-align: top;\n",
       "    }\n",
       "\n",
       "    .dataframe thead th {\n",
       "        text-align: right;\n",
       "    }\n",
       "</style>\n",
       "<table border=\"1\" class=\"dataframe\">\n",
       "  <thead>\n",
       "    <tr style=\"text-align: right;\">\n",
       "      <th></th>\n",
       "      <th>cohort_id</th>\n",
       "      <th>ndc11</th>\n",
       "      <th>number_of_refills_authorized</th>\n",
       "      <th>quantity_prescribed_original</th>\n",
       "      <th>quantity_dispensed</th>\n",
       "      <th>fill_number</th>\n",
       "      <th>days_supply</th>\n",
       "      <th>coupon_value_amount</th>\n",
       "      <th>pharmacy_submitted_cost</th>\n",
       "      <th>patient_pay</th>\n",
       "      <th>copay_coinsurance</th>\n",
       "      <th>plan_pay</th>\n",
       "      <th>ndc</th>\n",
       "      <th>start_date</th>\n",
       "    </tr>\n",
       "  </thead>\n",
       "  <tbody>\n",
       "    <tr>\n",
       "      <th>count</th>\n",
       "      <td>894623.000000</td>\n",
       "      <td>8.946230e+05</td>\n",
       "      <td>849519.000000</td>\n",
       "      <td>322348.00000</td>\n",
       "      <td>8.946160e+05</td>\n",
       "      <td>894623.000000</td>\n",
       "      <td>894623.000000</td>\n",
       "      <td>5.0</td>\n",
       "      <td>7.850810e+05</td>\n",
       "      <td>601820.000000</td>\n",
       "      <td>411383.000000</td>\n",
       "      <td>491878.000000</td>\n",
       "      <td>8.946230e+05</td>\n",
       "      <td>894623.000000</td>\n",
       "    </tr>\n",
       "    <tr>\n",
       "      <th>mean</th>\n",
       "      <td>16.065902</td>\n",
       "      <td>3.913810e+10</td>\n",
       "      <td>2.496945</td>\n",
       "      <td>11.03221</td>\n",
       "      <td>7.151479e+01</td>\n",
       "      <td>0.855659</td>\n",
       "      <td>41.070293</td>\n",
       "      <td>99.0</td>\n",
       "      <td>4.547052e+02</td>\n",
       "      <td>10.890529</td>\n",
       "      <td>7.075289</td>\n",
       "      <td>167.327912</td>\n",
       "      <td>3.913810e+10</td>\n",
       "      <td>190740.803998</td>\n",
       "    </tr>\n",
       "    <tr>\n",
       "      <th>std</th>\n",
       "      <td>0.248110</td>\n",
       "      <td>2.808575e+10</td>\n",
       "      <td>6.861014</td>\n",
       "      <td>85.75864</td>\n",
       "      <td>3.589294e+03</td>\n",
       "      <td>1.600734</td>\n",
       "      <td>29.708626</td>\n",
       "      <td>0.0</td>\n",
       "      <td>4.805967e+04</td>\n",
       "      <td>96.639674</td>\n",
       "      <td>59.716082</td>\n",
       "      <td>802.330352</td>\n",
       "      <td>2.808575e+10</td>\n",
       "      <td>2830.185124</td>\n",
       "    </tr>\n",
       "    <tr>\n",
       "      <th>min</th>\n",
       "      <td>16.000000</td>\n",
       "      <td>2.143301e+06</td>\n",
       "      <td>-1.000000</td>\n",
       "      <td>0.00000</td>\n",
       "      <td>0.000000e+00</td>\n",
       "      <td>0.000000</td>\n",
       "      <td>0.000000</td>\n",
       "      <td>99.0</td>\n",
       "      <td>-7.370000e+00</td>\n",
       "      <td>-189.700000</td>\n",
       "      <td>-3198.400000</td>\n",
       "      <td>-1458.620000</td>\n",
       "      <td>2.143301e+06</td>\n",
       "      <td>190001.000000</td>\n",
       "    </tr>\n",
       "    <tr>\n",
       "      <th>25%</th>\n",
       "      <td>16.000000</td>\n",
       "      <td>9.046999e+08</td>\n",
       "      <td>0.000000</td>\n",
       "      <td>0.00000</td>\n",
       "      <td>3.000000e+01</td>\n",
       "      <td>0.000000</td>\n",
       "      <td>30.000000</td>\n",
       "      <td>99.0</td>\n",
       "      <td>2.799000e+01</td>\n",
       "      <td>0.000000</td>\n",
       "      <td>0.000000</td>\n",
       "      <td>2.290000</td>\n",
       "      <td>9.046999e+08</td>\n",
       "      <td>190001.000000</td>\n",
       "    </tr>\n",
       "    <tr>\n",
       "      <th>50%</th>\n",
       "      <td>16.000000</td>\n",
       "      <td>4.948305e+10</td>\n",
       "      <td>1.000000</td>\n",
       "      <td>0.00000</td>\n",
       "      <td>3.000000e+01</td>\n",
       "      <td>0.000000</td>\n",
       "      <td>30.000000</td>\n",
       "      <td>99.0</td>\n",
       "      <td>9.526000e+01</td>\n",
       "      <td>0.000000</td>\n",
       "      <td>1.350000</td>\n",
       "      <td>13.580000</td>\n",
       "      <td>4.948305e+10</td>\n",
       "      <td>190001.000000</td>\n",
       "    </tr>\n",
       "    <tr>\n",
       "      <th>75%</th>\n",
       "      <td>16.000000</td>\n",
       "      <td>6.586206e+10</td>\n",
       "      <td>3.000000</td>\n",
       "      <td>0.00000</td>\n",
       "      <td>9.000000e+01</td>\n",
       "      <td>1.000000</td>\n",
       "      <td>50.000000</td>\n",
       "      <td>99.0</td>\n",
       "      <td>3.220600e+02</td>\n",
       "      <td>4.000000</td>\n",
       "      <td>4.150000</td>\n",
       "      <td>36.300000</td>\n",
       "      <td>6.586206e+10</td>\n",
       "      <td>190001.000000</td>\n",
       "    </tr>\n",
       "    <tr>\n",
       "      <th>max</th>\n",
       "      <td>17.000000</td>\n",
       "      <td>9.920701e+10</td>\n",
       "      <td>99.000000</td>\n",
       "      <td>10000.00000</td>\n",
       "      <td>3.390291e+06</td>\n",
       "      <td>99.000000</td>\n",
       "      <td>999.000000</td>\n",
       "      <td>99.0</td>\n",
       "      <td>4.252220e+07</td>\n",
       "      <td>25598.020000</td>\n",
       "      <td>6923.160000</td>\n",
       "      <td>50307.120000</td>\n",
       "      <td>9.920701e+10</td>\n",
       "      <td>202308.000000</td>\n",
       "    </tr>\n",
       "  </tbody>\n",
       "</table>\n",
       "</div>"
      ],
      "text/plain": [
       "           cohort_id         ndc11  number_of_refills_authorized  \\\n",
       "count  894623.000000  8.946230e+05                 849519.000000   \n",
       "mean       16.065902  3.913810e+10                      2.496945   \n",
       "std         0.248110  2.808575e+10                      6.861014   \n",
       "min        16.000000  2.143301e+06                     -1.000000   \n",
       "25%        16.000000  9.046999e+08                      0.000000   \n",
       "50%        16.000000  4.948305e+10                      1.000000   \n",
       "75%        16.000000  6.586206e+10                      3.000000   \n",
       "max        17.000000  9.920701e+10                     99.000000   \n",
       "\n",
       "       quantity_prescribed_original  quantity_dispensed    fill_number  \\\n",
       "count                  322348.00000        8.946160e+05  894623.000000   \n",
       "mean                       11.03221        7.151479e+01       0.855659   \n",
       "std                        85.75864        3.589294e+03       1.600734   \n",
       "min                         0.00000        0.000000e+00       0.000000   \n",
       "25%                         0.00000        3.000000e+01       0.000000   \n",
       "50%                         0.00000        3.000000e+01       0.000000   \n",
       "75%                         0.00000        9.000000e+01       1.000000   \n",
       "max                     10000.00000        3.390291e+06      99.000000   \n",
       "\n",
       "         days_supply  coupon_value_amount  pharmacy_submitted_cost  \\\n",
       "count  894623.000000                  5.0             7.850810e+05   \n",
       "mean       41.070293                 99.0             4.547052e+02   \n",
       "std        29.708626                  0.0             4.805967e+04   \n",
       "min         0.000000                 99.0            -7.370000e+00   \n",
       "25%        30.000000                 99.0             2.799000e+01   \n",
       "50%        30.000000                 99.0             9.526000e+01   \n",
       "75%        50.000000                 99.0             3.220600e+02   \n",
       "max       999.000000                 99.0             4.252220e+07   \n",
       "\n",
       "         patient_pay  copay_coinsurance       plan_pay           ndc  \\\n",
       "count  601820.000000      411383.000000  491878.000000  8.946230e+05   \n",
       "mean       10.890529           7.075289     167.327912  3.913810e+10   \n",
       "std        96.639674          59.716082     802.330352  2.808575e+10   \n",
       "min      -189.700000       -3198.400000   -1458.620000  2.143301e+06   \n",
       "25%         0.000000           0.000000       2.290000  9.046999e+08   \n",
       "50%         0.000000           1.350000      13.580000  4.948305e+10   \n",
       "75%         4.000000           4.150000      36.300000  6.586206e+10   \n",
       "max     25598.020000        6923.160000   50307.120000  9.920701e+10   \n",
       "\n",
       "          start_date  \n",
       "count  894623.000000  \n",
       "mean   190740.803998  \n",
       "std      2830.185124  \n",
       "min    190001.000000  \n",
       "25%    190001.000000  \n",
       "50%    190001.000000  \n",
       "75%    190001.000000  \n",
       "max    202308.000000  "
      ]
     },
     "execution_count": 169,
     "metadata": {},
     "output_type": "execute_result"
    }
   ],
   "source": [
    "prescription_samll.describe()"
   ]
  },
  {
   "cell_type": "code",
   "execution_count": 170,
   "metadata": {},
   "outputs": [
    {
     "data": {
      "text/plain": [
       "journey_id                            0\n",
       "cohort_id                             0\n",
       "claim_id                              0\n",
       "patient_gender                        0\n",
       "patient_state                         0\n",
       "patient_zip                           0\n",
       "patient_dob                           0\n",
       "pharmacy_npi                          0\n",
       "pharmacist_npi                        0\n",
       "prescriber_npi                        0\n",
       "primary_care_npi                      0\n",
       "group_id                              0\n",
       "date_of_service                       0\n",
       "date_authorized                       0\n",
       "transaction_type                      0\n",
       "date_prescription_written             0\n",
       "ndc11                                 0\n",
       "ndc11_original                        0\n",
       "number_of_refills_authorized      45104\n",
       "diagnosis_code                    80548\n",
       "diagnosis_code_type                   0\n",
       "quantity_prescribed_original     572275\n",
       "quantity_dispensed                    7\n",
       "place_of_service                      0\n",
       "is_service                            0\n",
       "level_of_service                      0\n",
       "fill_number                           0\n",
       "days_supply                           0\n",
       "unit_of_measure                    4229\n",
       "daw_code                         663442\n",
       "prior_authorization_type_code    275480\n",
       "is_compound_drug                      0\n",
       "coupon_type                           0\n",
       "coupon_value_amount              894618\n",
       "pharmacy_submitted_cost          109542\n",
       "patient_pay                      292803\n",
       "copay_coinsurance                483240\n",
       "pcn                                   6\n",
       "bin                                   0\n",
       "plan_pay                         402745\n",
       "reject_code_1                         0\n",
       "reject_code_3                         0\n",
       "reject_code_4                         0\n",
       "reject_code_5                         0\n",
       "ndc                                   0\n",
       "active                                0\n",
       "start_date                            0\n",
       "end_date                              0\n",
       "dtype: int64"
      ]
     },
     "execution_count": 170,
     "metadata": {},
     "output_type": "execute_result"
    }
   ],
   "source": [
    "prescription_samll.isna().sum()"
   ]
  },
  {
   "cell_type": "code",
   "execution_count": 171,
   "metadata": {},
   "outputs": [
    {
     "data": {
      "text/plain": [
       "Index(['journey_id', 'cohort_id', 'claim_id', 'patient_gender',\n",
       "       'patient_state', 'patient_zip', 'patient_dob', 'pharmacy_npi',\n",
       "       'pharmacist_npi', 'prescriber_npi', 'primary_care_npi', 'group_id',\n",
       "       'date_of_service', 'date_authorized', 'transaction_type',\n",
       "       'date_prescription_written', 'ndc11', 'ndc11_original',\n",
       "       'number_of_refills_authorized', 'diagnosis_code', 'diagnosis_code_type',\n",
       "       'quantity_prescribed_original', 'quantity_dispensed',\n",
       "       'place_of_service', 'is_service', 'level_of_service', 'fill_number',\n",
       "       'days_supply', 'unit_of_measure', 'daw_code',\n",
       "       'prior_authorization_type_code', 'is_compound_drug', 'coupon_type',\n",
       "       'coupon_value_amount', 'pharmacy_submitted_cost', 'patient_pay',\n",
       "       'copay_coinsurance', 'pcn', 'bin', 'plan_pay', 'reject_code_1',\n",
       "       'reject_code_3', 'reject_code_4', 'reject_code_5', 'ndc', 'active',\n",
       "       'start_date', 'end_date'],\n",
       "      dtype='object')"
      ]
     },
     "execution_count": 171,
     "metadata": {},
     "output_type": "execute_result"
    }
   ],
   "source": [
    "prescription_samll.columns"
   ]
  },
  {
   "cell_type": "code",
   "execution_count": 172,
   "metadata": {},
   "outputs": [
    {
     "data": {
      "image/png": "[encoded data removed]",
      "text/plain": [
       "<Figure size 640x480 with 1 Axes>"
      ]
     },
     "metadata": {},
     "output_type": "display_data"
    }
   ],
   "source": [
    "sns.histplot(prescription_samll['patient_pay'], bins = 30)\n",
    "plt.title('Distribution of Patient Payments')\n",
    "plt.show()"
   ]
  },
  {
   "cell_type": "code",
   "execution_count": 173,
   "metadata": {},
   "outputs": [
    {
     "data": {
      "image/png": "[encoded data removed]",
      "text/plain": [
       "<Figure size 640x480 with 1 Axes>"
      ]
     },
     "metadata": {},
     "output_type": "display_data"
    }
   ],
   "source": [
    "sns.histplot(prescription_samll['patient_pay'], bins = 10)\n",
    "plt.title('Distribution of Patient Payments')\n",
    "plt.yscale('log')  # Set the y-axis to a log scale\n",
    "plt.show()"
   ]
  },
  {
   "cell_type": "code",
   "execution_count": 174,
   "metadata": {},
   "outputs": [
    {
     "data": {
      "image/png": "[encoded data removed]",
      "text/plain": [
       "<Figure size 640x480 with 1 Axes>"
      ]
     },
     "metadata": {},
     "output_type": "display_data"
    }
   ],
   "source": [
    "sns.histplot(prescription_samll['plan_pay'], bins = 30)\n",
    "plt.title('Distribution of Plan Payment')\n",
    "plt.show()"
   ]
  },
  {
   "cell_type": "code",
   "execution_count": 175,
   "metadata": {},
   "outputs": [
    {
     "data": {
      "image/png": "[encoded data removed]",
      "text/plain": [
       "<Figure size 640x480 with 1 Axes>"
      ]
     },
     "metadata": {},
     "output_type": "display_data"
    }
   ],
   "source": [
    "sns.histplot(prescription_samll['plan_pay'], bins = 10)\n",
    "plt.title('Distribution of Plan Payment')\n",
    "plt.yscale('log')  # Set the y-axis to a log scale\n",
    "plt.show()"
   ]
  },
  {
   "cell_type": "markdown",
   "metadata": {},
   "source": [
    "The Insurance generally pays more than patients, showing that the insurance is playing an important role for patients to afford medical expenses."
   ]
  },
  {
   "cell_type": "markdown",
   "metadata": {},
   "source": [
    "## 2. Data Preprocessing and Merging"
   ]
  },
  {
   "cell_type": "code",
   "execution_count": 72,
   "metadata": {},
   "outputs": [
    {
     "name": "stdout",
     "output_type": "stream",
     "text": [
      "<class 'pandas.core.frame.DataFrame'>\n",
      "RangeIndex: 623525 entries, 0 to 623524\n",
      "Data columns (total 34 columns):\n",
      " #   Column             Non-Null Count   Dtype  \n",
      "---  ------             --------------   -----  \n",
      " 0   journey_id         623525 non-null  object \n",
      " 1   episode_id         623525 non-null  object \n",
      " 2   visit_id           621650 non-null  object \n",
      " 3   encounter_id       623525 non-null  object \n",
      " 4   claim_date         623525 non-null  object \n",
      " 5   patient_state      623525 non-null  object \n",
      " 6   patient_short_zip  623512 non-null  float64\n",
      " 7   patient_age        616980 non-null  float64\n",
      " 8   patient_gender     623525 non-null  object \n",
      " 9   place_of_service   484555 non-null  object \n",
      " 10  visit_type         600454 non-null  object \n",
      " 11  payor              608936 non-null  object \n",
      " 12  payor_channel      586086 non-null  object \n",
      " 13  ref_npi            297501 non-null  float64\n",
      " 14  hcp_npi            434653 non-null  float64\n",
      " 15  hcp_taxonomy       428209 non-null  object \n",
      " 16  hcp_specialty      428229 non-null  object \n",
      " 17  hco_npi            617789 non-null  float64\n",
      " 18  hcp_npi_list       434653 non-null  object \n",
      " 19  hco_npi_list       617789 non-null  object \n",
      " 20  diag_list          622655 non-null  object \n",
      " 21  diag_1             622655 non-null  object \n",
      " 22  diag_2             460595 non-null  object \n",
      " 23  diag_3             365284 non-null  object \n",
      " 24  diag_4             298233 non-null  object \n",
      " 25  diag_5             205016 non-null  object \n",
      " 26  rev_center_code    113926 non-null  float64\n",
      " 27  rev_center_units   621558 non-null  float64\n",
      " 28  proc_code          599612 non-null  object \n",
      " 29  proc_modifier      165948 non-null  object \n",
      " 30  proc_units         621331 non-null  float64\n",
      " 31  line_charge        623525 non-null  float64\n",
      " 32  claim_charge       623525 non-null  float64\n",
      " 33  smart_allowed      623525 non-null  float64\n",
      "dtypes: float64(11), object(23)\n",
      "memory usage: 161.7+ MB\n"
     ]
    }
   ],
   "source": [
    "medical_small.info()"
   ]
  },
  {
   "cell_type": "code",
   "execution_count": 176,
   "metadata": {},
   "outputs": [
    {
     "name": "stdout",
     "output_type": "stream",
     "text": [
      "<class 'pandas.core.frame.DataFrame'>\n",
      "Int64Index: 309795 entries, 2 to 623524\n",
      "Data columns (total 12 columns):\n",
      " #   Column             Non-Null Count   Dtype  \n",
      "---  ------             --------------   -----  \n",
      " 0   journey_id         309795 non-null  object \n",
      " 1   claim_date         309795 non-null  object \n",
      " 2   patient_state      309795 non-null  object \n",
      " 3   patient_short_zip  309782 non-null  float64\n",
      " 4   patient_age        309795 non-null  float64\n",
      " 5   patient_gender     309795 non-null  object \n",
      " 6   visit_type         297561 non-null  object \n",
      " 7   diag_1             309069 non-null  object \n",
      " 8   diag_2             231239 non-null  object \n",
      " 9   diag_3             185734 non-null  object \n",
      " 10  diag_4             154030 non-null  object \n",
      " 11  diag_5             108716 non-null  object \n",
      "dtypes: float64(2), object(10)\n",
      "memory usage: 30.7+ MB\n"
     ]
    }
   ],
   "source": [
    "# First, choose features that are relevant to the modeling\n",
    "medical_edited = medical_small.iloc[:,[0,4,5,6,7,8,10,21,22,23,24,25]]\n",
    "# Use data only beyond 2022 because the google trend shows the use of Ozempic stated raising in 2022\n",
    "medical_edited = medical_edited[medical_edited['claim_date'] >= '2022-01-01']\n",
    "medical_edited = medical_edited[(medical_edited['patient_age']>=40) & (medical_edited['patient_age']<=75)] # Follow the objective to see treatment effect of patients aged 40-75\n",
    "medical_edited.info()"
   ]
  },
  {
   "cell_type": "code",
   "execution_count": 177,
   "metadata": {},
   "outputs": [
    {
     "data": {
      "text/plain": [
       "journey_id                0\n",
       "claim_date                0\n",
       "patient_state             0\n",
       "patient_short_zip        13\n",
       "patient_age               0\n",
       "patient_gender            0\n",
       "visit_type            12234\n",
       "diag_1                  726\n",
       "diag_2                78556\n",
       "diag_3               124061\n",
       "diag_4               155765\n",
       "diag_5               201079\n",
       "dtype: int64"
      ]
     },
     "execution_count": 177,
     "metadata": {},
     "output_type": "execute_result"
    }
   ],
   "source": [
    "medical_edited.isna().sum()"
   ]
  },
  {
   "cell_type": "code",
   "execution_count": 178,
   "metadata": {},
   "outputs": [],
   "source": [
    "# Drop those entries without zip and visit_type\n",
    "medical_edited = medical_edited.dropna(subset=['patient_short_zip', 'visit_type'])"
   ]
  },
  {
   "cell_type": "code",
   "execution_count": 179,
   "metadata": {},
   "outputs": [],
   "source": [
    "# Define functions to encode diagnosis codes\n",
    "def check_obesity(code):\n",
    "    if str(code).startswith('E66'):\n",
    "        return 1\n",
    "    else:\n",
    "        return 0\n",
    "\n",
    "def check_hypertensive(code):\n",
    "    if str(code).startswith(('I10','I15','I16')):\n",
    "        return 1\n",
    "    else:\n",
    "        return 0\n",
    "\n",
    "def check_hyperglyceridemia(code):\n",
    "    if str(code).startswith('E78'):\n",
    "        return 1\n",
    "    else:\n",
    "        return 0\n",
    "\n",
    "def check_diabetes(code):\n",
    "    if str(code).startswith(('E13','E11')):\n",
    "        return 1\n",
    "    else:\n",
    "        return 0\n"
   ]
  },
  {
   "cell_type": "code",
   "execution_count": 180,
   "metadata": {},
   "outputs": [],
   "source": [
    "# Apply the functions to the diagnosis code 1 and 2 since the data starts getting more\n",
    "medical_edited['obesity_diag1'] = medical_edited['diag_1'].apply(check_obesity)\n",
    "medical_edited['obesity_diag2'] = medical_edited['diag_2'].apply(check_obesity)\n",
    "medical_edited['hypertensive_diag1'] = medical_edited['diag_1'].apply(check_hypertensive)\n",
    "medical_edited['hypertensive_diag2'] = medical_edited['diag_2'].apply(check_hypertensive)\n",
    "medical_edited['hyperglyceridemia_diag1'] = medical_edited['diag_1'].apply(check_hyperglyceridemia)\n",
    "medical_edited['hyperglyceridemia_diag2'] = medical_edited['diag_2'].apply(check_hyperglyceridemia)\n",
    "medical_edited['diabetes_diag1'] = medical_edited['diag_1'].apply(check_diabetes)\n",
    "medical_edited['diabetes_diag2'] = medical_edited['diag_2'].apply(check_diabetes)"
   ]
  },
  {
   "cell_type": "code",
   "execution_count": 181,
   "metadata": {},
   "outputs": [],
   "source": [
    "# To ensure the treatment effect, we use only data entries where the primary diagnosis code that has at least been marked '1' once\n",
    "medical_edited = medical_edited.query('obesity_diag1 == 1 or hypertensive_diag1 == 1 or hyperglyceridemia_diag1 == 1 or diabetes_diag1 == 1')"
   ]
  },
  {
   "cell_type": "code",
   "execution_count": 182,
   "metadata": {},
   "outputs": [],
   "source": [
    "# After the completion of encoding categorical variables, I will drop the original ones\n",
    "medical_edited.drop(medical_edited.columns[7:12], axis=1, inplace=True)"
   ]
  },
  {
   "cell_type": "code",
   "execution_count": 108,
   "metadata": {},
   "outputs": [
    {
     "name": "stdout",
     "output_type": "stream",
     "text": [
      "<class 'pandas.core.frame.DataFrame'>\n",
      "Int64Index: 65088 entries, 37 to 623519\n",
      "Data columns (total 15 columns):\n",
      " #   Column                   Non-Null Count  Dtype  \n",
      "---  ------                   --------------  -----  \n",
      " 0   journey_id               65088 non-null  object \n",
      " 1   claim_date               65088 non-null  object \n",
      " 2   patient_state            65088 non-null  object \n",
      " 3   patient_short_zip        65088 non-null  float64\n",
      " 4   patient_age              65088 non-null  float64\n",
      " 5   patient_gender           65088 non-null  object \n",
      " 6   visit_type               65088 non-null  object \n",
      " 7   obesity_diag1            65088 non-null  int64  \n",
      " 8   obesity_diag2            65088 non-null  int64  \n",
      " 9   hypertensive_diag1       65088 non-null  int64  \n",
      " 10  hypertensive_diag2       65088 non-null  int64  \n",
      " 11  hyperglyceridemia_diag1  65088 non-null  int64  \n",
      " 12  hyperglyceridemia_diag2  65088 non-null  int64  \n",
      " 13  diabetes_diag1           65088 non-null  int64  \n",
      " 14  diabetes_diag2           65088 non-null  int64  \n",
      "dtypes: float64(2), int64(8), object(5)\n",
      "memory usage: 7.9+ MB\n"
     ]
    }
   ],
   "source": [
    "medical_edited.info()"
   ]
  },
  {
   "cell_type": "code",
   "execution_count": 111,
   "metadata": {},
   "outputs": [
    {
     "data": {
      "text/plain": [
       "journey_id                 0\n",
       "claim_date                 0\n",
       "patient_state              0\n",
       "patient_short_zip          0\n",
       "patient_age                0\n",
       "patient_gender             0\n",
       "visit_type                 0\n",
       "obesity_diag1              0\n",
       "obesity_diag2              0\n",
       "hypertensive_diag1         0\n",
       "hypertensive_diag2         0\n",
       "hyperglyceridemia_diag1    0\n",
       "hyperglyceridemia_diag2    0\n",
       "diabetes_diag1             0\n",
       "diabetes_diag2             0\n",
       "dtype: int64"
      ]
     },
     "execution_count": 111,
     "metadata": {},
     "output_type": "execute_result"
    }
   ],
   "source": [
    "medical_edited.isna().sum()"
   ]
  },
  {
   "cell_type": "markdown",
   "metadata": {},
   "source": [
    "In order to find the treament effect, leave entries with the NDC Codes that are relevant to Ozempic.\n",
    "Source: https://dailymed.nlm.nih.gov/dailymed/drugInfo.cfm?setid=adec4fd2-6858-4c99-91d4-531f5f2a2d79"
   ]
  },
  {
   "cell_type": "code",
   "execution_count": 183,
   "metadata": {},
   "outputs": [
    {
     "name": "stdout",
     "output_type": "stream",
     "text": [
      "<class 'pandas.core.frame.DataFrame'>\n",
      "Int64Index: 10740 entries, 500 to 894608\n",
      "Data columns (total 48 columns):\n",
      " #   Column                         Non-Null Count  Dtype  \n",
      "---  ------                         --------------  -----  \n",
      " 0   journey_id                     10740 non-null  object \n",
      " 1   cohort_id                      10740 non-null  int64  \n",
      " 2   claim_id                       10740 non-null  object \n",
      " 3   patient_gender                 10740 non-null  object \n",
      " 4   patient_state                  10740 non-null  object \n",
      " 5   patient_zip                    10740 non-null  object \n",
      " 6   patient_dob                    10740 non-null  object \n",
      " 7   pharmacy_npi                   10740 non-null  object \n",
      " 8   pharmacist_npi                 10740 non-null  object \n",
      " 9   prescriber_npi                 10740 non-null  object \n",
      " 10  primary_care_npi               10740 non-null  object \n",
      " 11  group_id                       10740 non-null  object \n",
      " 12  date_of_service                10740 non-null  object \n",
      " 13  date_authorized                10740 non-null  object \n",
      " 14  transaction_type               10740 non-null  object \n",
      " 15  date_prescription_written      10740 non-null  object \n",
      " 16  ndc11                          10740 non-null  int64  \n",
      " 17  ndc11_original                 10740 non-null  object \n",
      " 18  number_of_refills_authorized   10428 non-null  float64\n",
      " 19  diagnosis_code                 10078 non-null  object \n",
      " 20  diagnosis_code_type            10740 non-null  object \n",
      " 21  quantity_prescribed_original   4880 non-null   float64\n",
      " 22  quantity_dispensed             10740 non-null  float64\n",
      " 23  place_of_service               10740 non-null  object \n",
      " 24  is_service                     10740 non-null  object \n",
      " 25  level_of_service               10740 non-null  object \n",
      " 26  fill_number                    10740 non-null  float64\n",
      " 27  days_supply                    10740 non-null  float64\n",
      " 28  unit_of_measure                10695 non-null  object \n",
      " 29  daw_code                       2093 non-null   object \n",
      " 30  prior_authorization_type_code  8169 non-null   object \n",
      " 31  is_compound_drug               10740 non-null  object \n",
      " 32  coupon_type                    10740 non-null  object \n",
      " 33  coupon_value_amount            0 non-null      float64\n",
      " 34  pharmacy_submitted_cost        9811 non-null   float64\n",
      " 35  patient_pay                    7026 non-null   float64\n",
      " 36  copay_coinsurance              5255 non-null   float64\n",
      " 37  pcn                            10740 non-null  object \n",
      " 38  bin                            10740 non-null  object \n",
      " 39  plan_pay                       6066 non-null   float64\n",
      " 40  reject_code_1                  10740 non-null  object \n",
      " 41  reject_code_3                  10740 non-null  object \n",
      " 42  reject_code_4                  10740 non-null  object \n",
      " 43  reject_code_5                  10740 non-null  object \n",
      " 44  ndc                            10740 non-null  int64  \n",
      " 45  active                         10740 non-null  bool   \n",
      " 46  start_date                     10740 non-null  int64  \n",
      " 47  end_date                       10740 non-null  object \n",
      "dtypes: bool(1), float64(10), int64(4), object(33)\n",
      "memory usage: 3.9+ MB\n"
     ]
    }
   ],
   "source": [
    "ozempic_ndcs = [169413001, 169413013, 169413211, 169413212, 169413290, 169413297, 169413602, 169413611, 169418103, 169418113, 169418190, 169418197, 169477211, 169477212, 169477290, 169477297]\n",
    "Prescriotion_ozempic = prescription_samll[prescription_samll['ndc'].isin(ozempic_ndcs)]\n",
    "Prescriotion_ozempic.info()"
   ]
  },
  {
   "cell_type": "code",
   "execution_count": 184,
   "metadata": {},
   "outputs": [
    {
     "name": "stdout",
     "output_type": "stream",
     "text": [
      "<class 'pandas.core.frame.DataFrame'>\n",
      "RangeIndex: 14832 entries, 0 to 14831\n",
      "Data columns (total 3 columns):\n",
      " #   Column              Non-Null Count  Dtype  \n",
      "---  ------              --------------  -----  \n",
      " 0   journey_id          14832 non-null  object \n",
      " 1   quantity_dispensed  14832 non-null  float64\n",
      " 2   days_supply         14832 non-null  float64\n",
      "dtypes: float64(2), object(1)\n",
      "memory usage: 347.8+ KB\n"
     ]
    }
   ],
   "source": [
    "# After filtering the NDC, Choose relevant features for the prescription dataset\n",
    "Prescriotion_edited = Prescriotion_ozempic.iloc[:,[0,22,27]] # Provides info of amount of ozempic\n",
    "prescription_edited.info()"
   ]
  },
  {
   "cell_type": "code",
   "execution_count": 185,
   "metadata": {},
   "outputs": [],
   "source": [
    "# Aggregate by the primary key to do data mining and also better present the supply of the drug to each patient\n",
    "prescription_edited=prescription_edited.groupby('journey_id')[['quantity_dispensed','days_supply']].sum().reset_index()"
   ]
  },
  {
   "cell_type": "code",
   "execution_count": 110,
   "metadata": {},
   "outputs": [
    {
     "name": "stdout",
     "output_type": "stream",
     "text": [
      "<class 'pandas.core.frame.DataFrame'>\n",
      "RangeIndex: 14832 entries, 0 to 14831\n",
      "Data columns (total 3 columns):\n",
      " #   Column              Non-Null Count  Dtype  \n",
      "---  ------              --------------  -----  \n",
      " 0   journey_id          14832 non-null  object \n",
      " 1   quantity_dispensed  14832 non-null  float64\n",
      " 2   days_supply         14832 non-null  float64\n",
      "dtypes: float64(2), object(1)\n",
      "memory usage: 347.8+ KB\n"
     ]
    }
   ],
   "source": [
    "prescription_edited.info()"
   ]
  },
  {
   "cell_type": "code",
   "execution_count": 112,
   "metadata": {},
   "outputs": [
    {
     "data": {
      "text/plain": [
       "journey_id            0\n",
       "quantity_dispensed    0\n",
       "days_supply           0\n",
       "dtype: int64"
      ]
     },
     "execution_count": 112,
     "metadata": {},
     "output_type": "execute_result"
    }
   ],
   "source": [
    "prescription_edited.isna().sum()"
   ]
  },
  {
   "cell_type": "code",
   "execution_count": 113,
   "metadata": {},
   "outputs": [
    {
     "data": {
      "text/html": [
       "<div>\n",
       "<style scoped>\n",
       "    .dataframe tbody tr th:only-of-type {\n",
       "        vertical-align: middle;\n",
       "    }\n",
       "\n",
       "    .dataframe tbody tr th {\n",
       "        vertical-align: top;\n",
       "    }\n",
       "\n",
       "    .dataframe thead th {\n",
       "        text-align: right;\n",
       "    }\n",
       "</style>\n",
       "<table border=\"1\" class=\"dataframe\">\n",
       "  <thead>\n",
       "    <tr style=\"text-align: right;\">\n",
       "      <th></th>\n",
       "      <th>journey_id</th>\n",
       "      <th>quantity_dispensed</th>\n",
       "      <th>days_supply</th>\n",
       "      <th>claim_date</th>\n",
       "      <th>patient_state</th>\n",
       "      <th>patient_short_zip</th>\n",
       "      <th>patient_age</th>\n",
       "      <th>patient_gender</th>\n",
       "      <th>visit_type</th>\n",
       "      <th>obesity_diag1</th>\n",
       "      <th>obesity_diag2</th>\n",
       "      <th>hypertensive_diag1</th>\n",
       "      <th>hypertensive_diag2</th>\n",
       "      <th>hyperglyceridemia_diag1</th>\n",
       "      <th>hyperglyceridemia_diag2</th>\n",
       "      <th>diabetes_diag1</th>\n",
       "      <th>diabetes_diag2</th>\n",
       "    </tr>\n",
       "  </thead>\n",
       "  <tbody>\n",
       "    <tr>\n",
       "      <th>0</th>\n",
       "      <td>00011020325337a2a22fb26b6492196a</td>\n",
       "      <td>1451.0</td>\n",
       "      <td>1535.0</td>\n",
       "      <td>2022-09-21</td>\n",
       "      <td>CA</td>\n",
       "      <td>922.0</td>\n",
       "      <td>70.0</td>\n",
       "      <td>M</td>\n",
       "      <td>laboratory visit</td>\n",
       "      <td>0</td>\n",
       "      <td>0</td>\n",
       "      <td>0</td>\n",
       "      <td>0</td>\n",
       "      <td>0</td>\n",
       "      <td>1</td>\n",
       "      <td>1</td>\n",
       "      <td>0</td>\n",
       "    </tr>\n",
       "    <tr>\n",
       "      <th>1</th>\n",
       "      <td>00011020325337a2a22fb26b6492196a</td>\n",
       "      <td>1451.0</td>\n",
       "      <td>1535.0</td>\n",
       "      <td>2022-09-21</td>\n",
       "      <td>CA</td>\n",
       "      <td>922.0</td>\n",
       "      <td>70.0</td>\n",
       "      <td>M</td>\n",
       "      <td>laboratory visit</td>\n",
       "      <td>0</td>\n",
       "      <td>0</td>\n",
       "      <td>0</td>\n",
       "      <td>0</td>\n",
       "      <td>0</td>\n",
       "      <td>1</td>\n",
       "      <td>1</td>\n",
       "      <td>0</td>\n",
       "    </tr>\n",
       "    <tr>\n",
       "      <th>2</th>\n",
       "      <td>00011020325337a2a22fb26b6492196a</td>\n",
       "      <td>1451.0</td>\n",
       "      <td>1535.0</td>\n",
       "      <td>2022-09-21</td>\n",
       "      <td>CA</td>\n",
       "      <td>922.0</td>\n",
       "      <td>70.0</td>\n",
       "      <td>M</td>\n",
       "      <td>laboratory visit</td>\n",
       "      <td>0</td>\n",
       "      <td>0</td>\n",
       "      <td>0</td>\n",
       "      <td>0</td>\n",
       "      <td>0</td>\n",
       "      <td>1</td>\n",
       "      <td>1</td>\n",
       "      <td>0</td>\n",
       "    </tr>\n",
       "    <tr>\n",
       "      <th>3</th>\n",
       "      <td>00011020325337a2a22fb26b6492196a</td>\n",
       "      <td>1451.0</td>\n",
       "      <td>1535.0</td>\n",
       "      <td>2022-09-21</td>\n",
       "      <td>CA</td>\n",
       "      <td>922.0</td>\n",
       "      <td>70.0</td>\n",
       "      <td>M</td>\n",
       "      <td>laboratory visit</td>\n",
       "      <td>0</td>\n",
       "      <td>0</td>\n",
       "      <td>0</td>\n",
       "      <td>0</td>\n",
       "      <td>0</td>\n",
       "      <td>1</td>\n",
       "      <td>1</td>\n",
       "      <td>0</td>\n",
       "    </tr>\n",
       "    <tr>\n",
       "      <th>4</th>\n",
       "      <td>00012bb21b3136f52c1c0774071f2ec2</td>\n",
       "      <td>NaN</td>\n",
       "      <td>NaN</td>\n",
       "      <td>2023-01-20</td>\n",
       "      <td>CA</td>\n",
       "      <td>910.0</td>\n",
       "      <td>50.0</td>\n",
       "      <td>M</td>\n",
       "      <td>laboratory visit</td>\n",
       "      <td>0</td>\n",
       "      <td>0</td>\n",
       "      <td>0</td>\n",
       "      <td>1</td>\n",
       "      <td>0</td>\n",
       "      <td>0</td>\n",
       "      <td>1</td>\n",
       "      <td>0</td>\n",
       "    </tr>\n",
       "  </tbody>\n",
       "</table>\n",
       "</div>"
      ],
      "text/plain": [
       "                         journey_id  quantity_dispensed  days_supply  \\\n",
       "0  00011020325337a2a22fb26b6492196a              1451.0       1535.0   \n",
       "1  00011020325337a2a22fb26b6492196a              1451.0       1535.0   \n",
       "2  00011020325337a2a22fb26b6492196a              1451.0       1535.0   \n",
       "3  00011020325337a2a22fb26b6492196a              1451.0       1535.0   \n",
       "4  00012bb21b3136f52c1c0774071f2ec2                 NaN          NaN   \n",
       "\n",
       "   claim_date patient_state  patient_short_zip  patient_age patient_gender  \\\n",
       "0  2022-09-21            CA              922.0         70.0              M   \n",
       "1  2022-09-21            CA              922.0         70.0              M   \n",
       "2  2022-09-21            CA              922.0         70.0              M   \n",
       "3  2022-09-21            CA              922.0         70.0              M   \n",
       "4  2023-01-20            CA              910.0         50.0              M   \n",
       "\n",
       "         visit_type  obesity_diag1  obesity_diag2  hypertensive_diag1  \\\n",
       "0  laboratory visit              0              0                   0   \n",
       "1  laboratory visit              0              0                   0   \n",
       "2  laboratory visit              0              0                   0   \n",
       "3  laboratory visit              0              0                   0   \n",
       "4  laboratory visit              0              0                   0   \n",
       "\n",
       "   hypertensive_diag2  hyperglyceridemia_diag1  hyperglyceridemia_diag2  \\\n",
       "0                   0                        0                        1   \n",
       "1                   0                        0                        1   \n",
       "2                   0                        0                        1   \n",
       "3                   0                        0                        1   \n",
       "4                   1                        0                        0   \n",
       "\n",
       "   diabetes_diag1  diabetes_diag2  \n",
       "0               1               0  \n",
       "1               1               0  \n",
       "2               1               0  \n",
       "3               1               0  \n",
       "4               1               0  "
      ]
     },
     "execution_count": 113,
     "metadata": {},
     "output_type": "execute_result"
    }
   ],
   "source": [
    "# Right Join on medical dataset because patients might not be treated with Ozempic\n",
    "df = pd.merge(prescription_edited,medical_edited, on = ['journey_id'], how = 'right')\n",
    "df.head()"
   ]
  },
  {
   "cell_type": "code",
   "execution_count": 114,
   "metadata": {},
   "outputs": [
    {
     "data": {
      "text/plain": [
       "journey_id                     0\n",
       "quantity_dispensed         26015\n",
       "days_supply                26015\n",
       "claim_date                     0\n",
       "patient_state                  0\n",
       "patient_short_zip              0\n",
       "patient_age                    0\n",
       "patient_gender                 0\n",
       "visit_type                     0\n",
       "obesity_diag1                  0\n",
       "obesity_diag2                  0\n",
       "hypertensive_diag1             0\n",
       "hypertensive_diag2             0\n",
       "hyperglyceridemia_diag1        0\n",
       "hyperglyceridemia_diag2        0\n",
       "diabetes_diag1                 0\n",
       "diabetes_diag2                 0\n",
       "dtype: int64"
      ]
     },
     "execution_count": 114,
     "metadata": {},
     "output_type": "execute_result"
    }
   ],
   "source": [
    "df.isna().sum()"
   ]
  },
  {
   "cell_type": "code",
   "execution_count": 115,
   "metadata": {},
   "outputs": [],
   "source": [
    "df['quantity_dispensed'].fillna(0,inplace=True)\n",
    "df['days_supply'].fillna(0,inplace=True)"
   ]
  },
  {
   "cell_type": "code",
   "execution_count": 117,
   "metadata": {},
   "outputs": [
    {
     "data": {
      "text/plain": [
       "journey_id                 0\n",
       "quantity_dispensed         0\n",
       "days_supply                0\n",
       "claim_date                 0\n",
       "patient_state              0\n",
       "patient_short_zip          0\n",
       "patient_age                0\n",
       "patient_gender             0\n",
       "visit_type                 0\n",
       "obesity_diag1              0\n",
       "obesity_diag2              0\n",
       "hypertensive_diag1         0\n",
       "hypertensive_diag2         0\n",
       "hyperglyceridemia_diag1    0\n",
       "hyperglyceridemia_diag2    0\n",
       "diabetes_diag1             0\n",
       "diabetes_diag2             0\n",
       "dtype: int64"
      ]
     },
     "execution_count": 117,
     "metadata": {},
     "output_type": "execute_result"
    }
   ],
   "source": [
    "df.isna().sum()"
   ]
  },
  {
   "cell_type": "code",
   "execution_count": 126,
   "metadata": {},
   "outputs": [],
   "source": [
    "# Crate treatment column to see if someone received a treatment\n",
    "df['treatment'] = df['quantity_dispensed'].apply(lambda x: 1 if x > 0 else 0)"
   ]
  },
  {
   "cell_type": "code",
   "execution_count": 128,
   "metadata": {},
   "outputs": [
    {
     "data": {
      "text/html": [
       "<div>\n",
       "<style scoped>\n",
       "    .dataframe tbody tr th:only-of-type {\n",
       "        vertical-align: middle;\n",
       "    }\n",
       "\n",
       "    .dataframe tbody tr th {\n",
       "        vertical-align: top;\n",
       "    }\n",
       "\n",
       "    .dataframe thead th {\n",
       "        text-align: right;\n",
       "    }\n",
       "</style>\n",
       "<table border=\"1\" class=\"dataframe\">\n",
       "  <thead>\n",
       "    <tr style=\"text-align: right;\">\n",
       "      <th></th>\n",
       "      <th>journey_id</th>\n",
       "      <th>quantity_dispensed</th>\n",
       "      <th>days_supply</th>\n",
       "      <th>claim_date</th>\n",
       "      <th>patient_age</th>\n",
       "      <th>obesity_diag1</th>\n",
       "      <th>obesity_diag2</th>\n",
       "      <th>hypertensive_diag1</th>\n",
       "      <th>hypertensive_diag2</th>\n",
       "      <th>hyperglyceridemia_diag1</th>\n",
       "      <th>...</th>\n",
       "      <th>patient_short_zip_996.0</th>\n",
       "      <th>patient_short_zip_997.0</th>\n",
       "      <th>patient_gender_M</th>\n",
       "      <th>visit_type_emergency room visit</th>\n",
       "      <th>visit_type_home visit</th>\n",
       "      <th>visit_type_inpatient visit</th>\n",
       "      <th>visit_type_laboratory visit</th>\n",
       "      <th>visit_type_non-hospital institution visit</th>\n",
       "      <th>visit_type_outpatient visit</th>\n",
       "      <th>visit_type_pharmacy visit</th>\n",
       "    </tr>\n",
       "  </thead>\n",
       "  <tbody>\n",
       "    <tr>\n",
       "      <th>0</th>\n",
       "      <td>00011020325337a2a22fb26b6492196a</td>\n",
       "      <td>1451.0</td>\n",
       "      <td>1535.0</td>\n",
       "      <td>2022-09-21</td>\n",
       "      <td>70.0</td>\n",
       "      <td>0</td>\n",
       "      <td>0</td>\n",
       "      <td>0</td>\n",
       "      <td>0</td>\n",
       "      <td>0</td>\n",
       "      <td>...</td>\n",
       "      <td>0</td>\n",
       "      <td>0</td>\n",
       "      <td>1</td>\n",
       "      <td>0</td>\n",
       "      <td>0</td>\n",
       "      <td>0</td>\n",
       "      <td>1</td>\n",
       "      <td>0</td>\n",
       "      <td>0</td>\n",
       "      <td>0</td>\n",
       "    </tr>\n",
       "    <tr>\n",
       "      <th>1</th>\n",
       "      <td>00011020325337a2a22fb26b6492196a</td>\n",
       "      <td>1451.0</td>\n",
       "      <td>1535.0</td>\n",
       "      <td>2022-09-21</td>\n",
       "      <td>70.0</td>\n",
       "      <td>0</td>\n",
       "      <td>0</td>\n",
       "      <td>0</td>\n",
       "      <td>0</td>\n",
       "      <td>0</td>\n",
       "      <td>...</td>\n",
       "      <td>0</td>\n",
       "      <td>0</td>\n",
       "      <td>1</td>\n",
       "      <td>0</td>\n",
       "      <td>0</td>\n",
       "      <td>0</td>\n",
       "      <td>1</td>\n",
       "      <td>0</td>\n",
       "      <td>0</td>\n",
       "      <td>0</td>\n",
       "    </tr>\n",
       "    <tr>\n",
       "      <th>2</th>\n",
       "      <td>00011020325337a2a22fb26b6492196a</td>\n",
       "      <td>1451.0</td>\n",
       "      <td>1535.0</td>\n",
       "      <td>2022-09-21</td>\n",
       "      <td>70.0</td>\n",
       "      <td>0</td>\n",
       "      <td>0</td>\n",
       "      <td>0</td>\n",
       "      <td>0</td>\n",
       "      <td>0</td>\n",
       "      <td>...</td>\n",
       "      <td>0</td>\n",
       "      <td>0</td>\n",
       "      <td>1</td>\n",
       "      <td>0</td>\n",
       "      <td>0</td>\n",
       "      <td>0</td>\n",
       "      <td>1</td>\n",
       "      <td>0</td>\n",
       "      <td>0</td>\n",
       "      <td>0</td>\n",
       "    </tr>\n",
       "    <tr>\n",
       "      <th>3</th>\n",
       "      <td>00011020325337a2a22fb26b6492196a</td>\n",
       "      <td>1451.0</td>\n",
       "      <td>1535.0</td>\n",
       "      <td>2022-09-21</td>\n",
       "      <td>70.0</td>\n",
       "      <td>0</td>\n",
       "      <td>0</td>\n",
       "      <td>0</td>\n",
       "      <td>0</td>\n",
       "      <td>0</td>\n",
       "      <td>...</td>\n",
       "      <td>0</td>\n",
       "      <td>0</td>\n",
       "      <td>1</td>\n",
       "      <td>0</td>\n",
       "      <td>0</td>\n",
       "      <td>0</td>\n",
       "      <td>1</td>\n",
       "      <td>0</td>\n",
       "      <td>0</td>\n",
       "      <td>0</td>\n",
       "    </tr>\n",
       "    <tr>\n",
       "      <th>4</th>\n",
       "      <td>00012bb21b3136f52c1c0774071f2ec2</td>\n",
       "      <td>0.0</td>\n",
       "      <td>0.0</td>\n",
       "      <td>2023-01-20</td>\n",
       "      <td>50.0</td>\n",
       "      <td>0</td>\n",
       "      <td>0</td>\n",
       "      <td>0</td>\n",
       "      <td>1</td>\n",
       "      <td>0</td>\n",
       "      <td>...</td>\n",
       "      <td>0</td>\n",
       "      <td>0</td>\n",
       "      <td>1</td>\n",
       "      <td>0</td>\n",
       "      <td>0</td>\n",
       "      <td>0</td>\n",
       "      <td>1</td>\n",
       "      <td>0</td>\n",
       "      <td>0</td>\n",
       "      <td>0</td>\n",
       "    </tr>\n",
       "  </tbody>\n",
       "</table>\n",
       "<p>5 rows × 53 columns</p>\n",
       "</div>"
      ],
      "text/plain": [
       "                         journey_id  quantity_dispensed  days_supply  \\\n",
       "0  00011020325337a2a22fb26b6492196a              1451.0       1535.0   \n",
       "1  00011020325337a2a22fb26b6492196a              1451.0       1535.0   \n",
       "2  00011020325337a2a22fb26b6492196a              1451.0       1535.0   \n",
       "3  00011020325337a2a22fb26b6492196a              1451.0       1535.0   \n",
       "4  00012bb21b3136f52c1c0774071f2ec2                 0.0          0.0   \n",
       "\n",
       "   claim_date  patient_age  obesity_diag1  obesity_diag2  hypertensive_diag1  \\\n",
       "0  2022-09-21         70.0              0              0                   0   \n",
       "1  2022-09-21         70.0              0              0                   0   \n",
       "2  2022-09-21         70.0              0              0                   0   \n",
       "3  2022-09-21         70.0              0              0                   0   \n",
       "4  2023-01-20         50.0              0              0                   0   \n",
       "\n",
       "   hypertensive_diag2  hyperglyceridemia_diag1  ...  patient_short_zip_996.0  \\\n",
       "0                   0                        0  ...                        0   \n",
       "1                   0                        0  ...                        0   \n",
       "2                   0                        0  ...                        0   \n",
       "3                   0                        0  ...                        0   \n",
       "4                   1                        0  ...                        0   \n",
       "\n",
       "   patient_short_zip_997.0  patient_gender_M  visit_type_emergency room visit  \\\n",
       "0                        0                 1                                0   \n",
       "1                        0                 1                                0   \n",
       "2                        0                 1                                0   \n",
       "3                        0                 1                                0   \n",
       "4                        0                 1                                0   \n",
       "\n",
       "   visit_type_home visit  visit_type_inpatient visit  \\\n",
       "0                      0                           0   \n",
       "1                      0                           0   \n",
       "2                      0                           0   \n",
       "3                      0                           0   \n",
       "4                      0                           0   \n",
       "\n",
       "   visit_type_laboratory visit  visit_type_non-hospital institution visit  \\\n",
       "0                            1                                          0   \n",
       "1                            1                                          0   \n",
       "2                            1                                          0   \n",
       "3                            1                                          0   \n",
       "4                            1                                          0   \n",
       "\n",
       "   visit_type_outpatient visit  visit_type_pharmacy visit  \n",
       "0                            0                          0  \n",
       "1                            0                          0  \n",
       "2                            0                          0  \n",
       "3                            0                          0  \n",
       "4                            0                          0  \n",
       "\n",
       "[5 rows x 53 columns]"
      ]
     },
     "execution_count": 128,
     "metadata": {},
     "output_type": "execute_result"
    }
   ],
   "source": [
    "df_dummies = pd.get_dummies(df, columns=['patient_state', 'patient_short_zip', 'patient_gender', 'visit_type'],drop_first=True)\n",
    "df_dummies.head()"
   ]
  },
  {
   "cell_type": "code",
   "execution_count": 129,
   "metadata": {},
   "outputs": [],
   "source": [
    "df_dummies['year'] = pd.to_datetime(df_dummies['claim_date']).dt.year\n",
    "df_dummies['month'] = pd.to_datetime(df_dummies['claim_date']).dt.month"
   ]
  },
  {
   "cell_type": "code",
   "execution_count": 130,
   "metadata": {},
   "outputs": [
    {
     "name": "stdout",
     "output_type": "stream",
     "text": [
      "<class 'pandas.core.frame.DataFrame'>\n",
      "Int64Index: 65088 entries, 0 to 65087\n",
      "Data columns (total 55 columns):\n",
      " #   Column                                     Non-Null Count  Dtype  \n",
      "---  ------                                     --------------  -----  \n",
      " 0   journey_id                                 65088 non-null  object \n",
      " 1   quantity_dispensed                         65088 non-null  float64\n",
      " 2   days_supply                                65088 non-null  float64\n",
      " 3   claim_date                                 65088 non-null  object \n",
      " 4   patient_age                                65088 non-null  float64\n",
      " 5   obesity_diag1                              65088 non-null  int64  \n",
      " 6   obesity_diag2                              65088 non-null  int64  \n",
      " 7   hypertensive_diag1                         65088 non-null  int64  \n",
      " 8   hypertensive_diag2                         65088 non-null  int64  \n",
      " 9   hyperglyceridemia_diag1                    65088 non-null  int64  \n",
      " 10  hyperglyceridemia_diag2                    65088 non-null  int64  \n",
      " 11  diabetes_diag1                             65088 non-null  int64  \n",
      " 12  diabetes_diag2                             65088 non-null  int64  \n",
      " 13  treatment                                  65088 non-null  int64  \n",
      " 14  patient_state_AL                           65088 non-null  uint8  \n",
      " 15  patient_state_AZ                           65088 non-null  uint8  \n",
      " 16  patient_state_CA                           65088 non-null  uint8  \n",
      " 17  patient_short_zip_351.0                    65088 non-null  uint8  \n",
      " 18  patient_short_zip_352.0                    65088 non-null  uint8  \n",
      " 19  patient_short_zip_442.0                    65088 non-null  uint8  \n",
      " 20  patient_short_zip_606.0                    65088 non-null  uint8  \n",
      " 21  patient_short_zip_852.0                    65088 non-null  uint8  \n",
      " 22  patient_short_zip_853.0                    65088 non-null  uint8  \n",
      " 23  patient_short_zip_855.0                    65088 non-null  uint8  \n",
      " 24  patient_short_zip_856.0                    65088 non-null  uint8  \n",
      " 25  patient_short_zip_857.0                    65088 non-null  uint8  \n",
      " 26  patient_short_zip_859.0                    65088 non-null  uint8  \n",
      " 27  patient_short_zip_860.0                    65088 non-null  uint8  \n",
      " 28  patient_short_zip_863.0                    65088 non-null  uint8  \n",
      " 29  patient_short_zip_864.0                    65088 non-null  uint8  \n",
      " 30  patient_short_zip_891.0                    65088 non-null  uint8  \n",
      " 31  patient_short_zip_895.0                    65088 non-null  uint8  \n",
      " 32  patient_short_zip_900.0                    65088 non-null  uint8  \n",
      " 33  patient_short_zip_908.0                    65088 non-null  uint8  \n",
      " 34  patient_short_zip_910.0                    65088 non-null  uint8  \n",
      " 35  patient_short_zip_911.0                    65088 non-null  uint8  \n",
      " 36  patient_short_zip_912.0                    65088 non-null  uint8  \n",
      " 37  patient_short_zip_913.0                    65088 non-null  uint8  \n",
      " 38  patient_short_zip_921.0                    65088 non-null  uint8  \n",
      " 39  patient_short_zip_922.0                    65088 non-null  uint8  \n",
      " 40  patient_short_zip_923.0                    65088 non-null  uint8  \n",
      " 41  patient_short_zip_933.0                    65088 non-null  uint8  \n",
      " 42  patient_short_zip_995.0                    65088 non-null  uint8  \n",
      " 43  patient_short_zip_996.0                    65088 non-null  uint8  \n",
      " 44  patient_short_zip_997.0                    65088 non-null  uint8  \n",
      " 45  patient_gender_M                           65088 non-null  uint8  \n",
      " 46  visit_type_emergency room visit            65088 non-null  uint8  \n",
      " 47  visit_type_home visit                      65088 non-null  uint8  \n",
      " 48  visit_type_inpatient visit                 65088 non-null  uint8  \n",
      " 49  visit_type_laboratory visit                65088 non-null  uint8  \n",
      " 50  visit_type_non-hospital institution visit  65088 non-null  uint8  \n",
      " 51  visit_type_outpatient visit                65088 non-null  uint8  \n",
      " 52  visit_type_pharmacy visit                  65088 non-null  uint8  \n",
      " 53  year                                       65088 non-null  int64  \n",
      " 54  month                                      65088 non-null  int64  \n",
      "dtypes: float64(3), int64(11), object(2), uint8(39)\n",
      "memory usage: 12.9+ MB\n"
     ]
    }
   ],
   "source": [
    "df_dummies.info()"
   ]
  },
  {
   "cell_type": "code",
   "execution_count": 131,
   "metadata": {},
   "outputs": [
    {
     "name": "stdout",
     "output_type": "stream",
     "text": [
      "<class 'pandas.core.frame.DataFrame'>\n",
      "Int64Index: 65088 entries, 0 to 65087\n",
      "Data columns (total 54 columns):\n",
      " #   Column                                     Non-Null Count  Dtype  \n",
      "---  ------                                     --------------  -----  \n",
      " 0   journey_id                                 65088 non-null  object \n",
      " 1   quantity_dispensed                         65088 non-null  float64\n",
      " 2   days_supply                                65088 non-null  float64\n",
      " 3   patient_age                                65088 non-null  float64\n",
      " 4   obesity_diag1                              65088 non-null  int64  \n",
      " 5   obesity_diag2                              65088 non-null  int64  \n",
      " 6   hypertensive_diag1                         65088 non-null  int64  \n",
      " 7   hypertensive_diag2                         65088 non-null  int64  \n",
      " 8   hyperglyceridemia_diag1                    65088 non-null  int64  \n",
      " 9   hyperglyceridemia_diag2                    65088 non-null  int64  \n",
      " 10  diabetes_diag1                             65088 non-null  int64  \n",
      " 11  diabetes_diag2                             65088 non-null  int64  \n",
      " 12  treatment                                  65088 non-null  int64  \n",
      " 13  patient_state_AL                           65088 non-null  uint8  \n",
      " 14  patient_state_AZ                           65088 non-null  uint8  \n",
      " 15  patient_state_CA                           65088 non-null  uint8  \n",
      " 16  patient_short_zip_351.0                    65088 non-null  uint8  \n",
      " 17  patient_short_zip_352.0                    65088 non-null  uint8  \n",
      " 18  patient_short_zip_442.0                    65088 non-null  uint8  \n",
      " 19  patient_short_zip_606.0                    65088 non-null  uint8  \n",
      " 20  patient_short_zip_852.0                    65088 non-null  uint8  \n",
      " 21  patient_short_zip_853.0                    65088 non-null  uint8  \n",
      " 22  patient_short_zip_855.0                    65088 non-null  uint8  \n",
      " 23  patient_short_zip_856.0                    65088 non-null  uint8  \n",
      " 24  patient_short_zip_857.0                    65088 non-null  uint8  \n",
      " 25  patient_short_zip_859.0                    65088 non-null  uint8  \n",
      " 26  patient_short_zip_860.0                    65088 non-null  uint8  \n",
      " 27  patient_short_zip_863.0                    65088 non-null  uint8  \n",
      " 28  patient_short_zip_864.0                    65088 non-null  uint8  \n",
      " 29  patient_short_zip_891.0                    65088 non-null  uint8  \n",
      " 30  patient_short_zip_895.0                    65088 non-null  uint8  \n",
      " 31  patient_short_zip_900.0                    65088 non-null  uint8  \n",
      " 32  patient_short_zip_908.0                    65088 non-null  uint8  \n",
      " 33  patient_short_zip_910.0                    65088 non-null  uint8  \n",
      " 34  patient_short_zip_911.0                    65088 non-null  uint8  \n",
      " 35  patient_short_zip_912.0                    65088 non-null  uint8  \n",
      " 36  patient_short_zip_913.0                    65088 non-null  uint8  \n",
      " 37  patient_short_zip_921.0                    65088 non-null  uint8  \n",
      " 38  patient_short_zip_922.0                    65088 non-null  uint8  \n",
      " 39  patient_short_zip_923.0                    65088 non-null  uint8  \n",
      " 40  patient_short_zip_933.0                    65088 non-null  uint8  \n",
      " 41  patient_short_zip_995.0                    65088 non-null  uint8  \n",
      " 42  patient_short_zip_996.0                    65088 non-null  uint8  \n",
      " 43  patient_short_zip_997.0                    65088 non-null  uint8  \n",
      " 44  patient_gender_M                           65088 non-null  uint8  \n",
      " 45  visit_type_emergency room visit            65088 non-null  uint8  \n",
      " 46  visit_type_home visit                      65088 non-null  uint8  \n",
      " 47  visit_type_inpatient visit                 65088 non-null  uint8  \n",
      " 48  visit_type_laboratory visit                65088 non-null  uint8  \n",
      " 49  visit_type_non-hospital institution visit  65088 non-null  uint8  \n",
      " 50  visit_type_outpatient visit                65088 non-null  uint8  \n",
      " 51  visit_type_pharmacy visit                  65088 non-null  uint8  \n",
      " 52  year                                       65088 non-null  int64  \n",
      " 53  month                                      65088 non-null  int64  \n",
      "dtypes: float64(3), int64(11), object(1), uint8(39)\n",
      "memory usage: 12.4+ MB\n"
     ]
    }
   ],
   "source": [
    "df2 = df_dummies.drop('claim_date', axis=1)\n",
    "df2.info()"
   ]
  },
  {
   "cell_type": "code",
   "execution_count": 132,
   "metadata": {},
   "outputs": [],
   "source": [
    "df2 = df2.drop_duplicates(keep='last')\n",
    "df3 = df2. drop('journey_id',axis=1)"
   ]
  },
  {
   "cell_type": "code",
   "execution_count": 134,
   "metadata": {},
   "outputs": [],
   "source": [
    "data_diabetes = df3[df3['diabetes_diag1']==1]\n",
    "data_obesity = df3[df3['obesity_diag1']==1]\n",
    "data_hyperglyceridemia = df3[df3['hyperglyceridemia_diag1']==1]\n",
    "data_hypertensive = df3[df3['hypertensive_diag1']==1]"
   ]
  },
  {
   "cell_type": "markdown",
   "metadata": {},
   "source": [
    "## 3. Causal Analysis Setup"
   ]
  },
  {
   "cell_type": "code",
   "execution_count": 198,
   "metadata": {},
   "outputs": [],
   "source": [
    "from sklearn.model_selection import cross_val_score\n",
    "from sklearn.model_selection import train_test_split\n",
    "from sklearn.metrics import accuracy_score, mean_squared_error, r2_score\n",
    "from sklearn.linear_model import LassoCV\n",
    "from sklearn.linear_model import LogisticRegressionCV\n",
    "from sklearn.linear_model import LinearRegression\n",
    "import statsmodels.api as sm\n",
    "import statsmodels.formula.api as smf\n",
    "from sklearn.preprocessing import StandardScaler"
   ]
  },
  {
   "cell_type": "code",
   "execution_count": 258,
   "metadata": {},
   "outputs": [],
   "source": [
    "\n",
    "# Split dataset into features and target\n",
    "X_diabetes = data_diabetes.drop(['treatment', 'obesity_diag1', 'hypertensive_diag1', 'hyperglyceridemia_diag1', 'diabetes_diag1', 'obesity_diag2', 'hypertensive_diag2', 'hyperglyceridemia_diag2', 'diabetes_diag2'], axis=1)\n",
    "\n",
    "X_obesity = data_obesity.drop(['treatment', 'obesity_diag1', 'hypertensive_diag1', 'hyperglyceridemia_diag1', 'diabetes_diag1', 'obesity_diag2', 'hypertensive_diag2', 'hyperglyceridemia_diag2', 'diabetes_diag2'], axis=1)\n",
    "\n",
    "X_hypertensive = data_hypertensive.drop(['treatment', 'obesity_diag1', 'hypertensive_diag1', 'hyperglyceridemia_diag1', 'diabetes_diag1', 'obesity_diag2', 'hypertensive_diag2', 'hyperglyceridemia_diag2', 'diabetes_diag2'], axis=1)\n",
    "\n",
    "X_hyperglyceridemia = data_hyperglyceridemia.drop(['treatment', 'obesity_diag1', 'hypertensive_diag1', 'hyperglyceridemia_diag1', 'diabetes_diag1', 'obesity_diag2', 'hypertensive_diag2', 'hyperglyceridemia_diag2', 'diabetes_diag2'], axis=1)\n",
    "\n",
    "\n",
    "# Treatment indicator\n",
    "d_diabetes = data_diabetes['treatment']  \n",
    "d_obesity = data_obesity['treatment']  \n",
    "d_hypertensive = data_hypertensive['treatment']\n",
    "d_hyperglyceridemia = data_hyperglyceridemia['treatment']\n",
    "\n",
    "# Dependent variable will be the diagnosis_2, if the diagnosis 1 is 1 while the diagnosis 2 is 0, then its proven effective\n",
    "y_diabetes = data_diabetes['diabetes_diag2']  \n",
    "y_obesity = data_obesity['obesity_diag2']  \n",
    "y_hypertensive = data_hypertensive['hypertensive_diag2']\n",
    "y_hyperglyceridemia = data_hyperglyceridemia['hyperglyceridemia_diag2']\n",
    "\n"
   ]
  },
  {
   "cell_type": "code",
   "execution_count": 201,
   "metadata": {},
   "outputs": [
    {
     "name": "stdout",
     "output_type": "stream",
     "text": [
      "                            OLS Regression Results                            \n",
      "==============================================================================\n",
      "Dep. Variable:          obesity_diag2   R-squared:                       0.000\n",
      "Model:                            OLS   Adj. R-squared:                  0.000\n",
      "Method:                 Least Squares   F-statistic:                     5.614\n",
      "Date:                Wed, 21 Feb 2024   Prob (F-statistic):             0.0178\n",
      "Time:                        21:01:50   Log-Likelihood:                 1370.8\n",
      "No. Observations:               12736   AIC:                            -2738.\n",
      "Df Residuals:                   12734   BIC:                            -2723.\n",
      "Df Model:                           1                                         \n",
      "Covariance Type:            nonrobust                                         \n",
      "==============================================================================\n",
      "                 coef    std err          t      P>|t|      [0.025      0.975]\n",
      "------------------------------------------------------------------------------\n",
      "Intercept      0.0553      0.003     18.171      0.000       0.049       0.061\n",
      "treatment     -0.0093      0.004     -2.369      0.018      -0.017      -0.002\n",
      "==============================================================================\n",
      "Omnibus:                    10427.535   Durbin-Watson:                   1.766\n",
      "Prob(Omnibus):                  0.000   Jarque-Bera (JB):           158348.929\n",
      "Skew:                           4.141   Prob(JB):                         0.00\n",
      "Kurtosis:                      18.159   Cond. No.                         2.92\n",
      "==============================================================================\n",
      "\n",
      "Notes:\n",
      "[1] Standard Errors assume that the covariance matrix of the errors is correctly specified.\n"
     ]
    }
   ],
   "source": [
    "obesity_ols = smf.ols(formula='obesity_diag2 ~ treatment', data = data_diabetes).fit()\n",
    "print(obesity_ols.summary())"
   ]
  },
  {
   "cell_type": "code",
   "execution_count": 203,
   "metadata": {},
   "outputs": [
    {
     "name": "stdout",
     "output_type": "stream",
     "text": [
      "                            OLS Regression Results                            \n",
      "==============================================================================\n",
      "Dep. Variable:     hypertensive_diag2   R-squared:                       0.001\n",
      "Model:                            OLS   Adj. R-squared:                  0.001\n",
      "Method:                 Least Squares   F-statistic:                     7.867\n",
      "Date:                Wed, 21 Feb 2024   Prob (F-statistic):            0.00504\n",
      "Time:                        21:05:00   Log-Likelihood:                 1099.5\n",
      "No. Observations:                9708   AIC:                            -2195.\n",
      "Df Residuals:                    9706   BIC:                            -2181.\n",
      "Df Model:                           1                                         \n",
      "Covariance Type:            nonrobust                                         \n",
      "==============================================================================\n",
      "                 coef    std err          t      P>|t|      [0.025      0.975]\n",
      "------------------------------------------------------------------------------\n",
      "Intercept      0.0563      0.003     16.725      0.000       0.050       0.063\n",
      "treatment     -0.0124      0.004     -2.805      0.005      -0.021      -0.004\n",
      "==============================================================================\n",
      "Omnibus:                     8000.740   Durbin-Watson:                   1.752\n",
      "Prob(Omnibus):                  0.000   Jarque-Bera (JB):           123761.531\n",
      "Skew:                           4.167   Prob(JB):                         0.00\n",
      "Kurtosis:                      18.379   Cond. No.                         2.83\n",
      "==============================================================================\n",
      "\n",
      "Notes:\n",
      "[1] Standard Errors assume that the covariance matrix of the errors is correctly specified.\n"
     ]
    }
   ],
   "source": [
    "# hypertensive\n",
    "hypertensive_ols = smf.ols(formula='hypertensive_diag2 ~ treatment', data = data_hypertensive).fit()\n",
    "print(hypertensive_ols.summary())"
   ]
  },
  {
   "cell_type": "code",
   "execution_count": 204,
   "metadata": {},
   "outputs": [
    {
     "name": "stdout",
     "output_type": "stream",
     "text": [
      "                            OLS Regression Results                            \n",
      "==============================================================================\n",
      "Dep. Variable:         diabetes_diag2   R-squared:                       0.000\n",
      "Model:                            OLS   Adj. R-squared:                 -0.000\n",
      "Method:                 Least Squares   F-statistic:                    0.3074\n",
      "Date:                Wed, 21 Feb 2024   Prob (F-statistic):              0.579\n",
      "Time:                        21:07:54   Log-Likelihood:                -4111.0\n",
      "No. Observations:               12736   AIC:                             8226.\n",
      "Df Residuals:                   12734   BIC:                             8241.\n",
      "Df Model:                           1                                         \n",
      "Covariance Type:            nonrobust                                         \n",
      "==============================================================================\n",
      "                 coef    std err          t      P>|t|      [0.025      0.975]\n",
      "------------------------------------------------------------------------------\n",
      "Intercept      0.1261      0.005     26.940      0.000       0.117       0.135\n",
      "treatment      0.0034      0.006      0.554      0.579      -0.008       0.015\n",
      "==============================================================================\n",
      "Omnibus:                     5123.253   Durbin-Watson:                   1.711\n",
      "Prob(Omnibus):                  0.000   Jarque-Bera (JB):            15153.431\n",
      "Skew:                           2.226   Prob(JB):                         0.00\n",
      "Kurtosis:                       5.955   Cond. No.                         2.92\n",
      "==============================================================================\n",
      "\n",
      "Notes:\n",
      "[1] Standard Errors assume that the covariance matrix of the errors is correctly specified.\n"
     ]
    }
   ],
   "source": [
    "# diabetes\n",
    "diabetes_ols = smf.ols(formula='diabetes_diag2 ~ treatment', data = data_diabetes).fit()\n",
    "print(diabetes_ols.summary())"
   ]
  },
  {
   "cell_type": "code",
   "execution_count": 205,
   "metadata": {},
   "outputs": [
    {
     "name": "stdout",
     "output_type": "stream",
     "text": [
      "                               OLS Regression Results                              \n",
      "===================================================================================\n",
      "Dep. Variable:     hyperglyceridemia_diag2   R-squared:                       0.000\n",
      "Model:                                 OLS   Adj. R-squared:                 -0.000\n",
      "Method:                      Least Squares   F-statistic:                    0.3017\n",
      "Date:                     Wed, 21 Feb 2024   Prob (F-statistic):              0.583\n",
      "Time:                             21:09:45   Log-Likelihood:                 374.04\n",
      "No. Observations:                     2354   AIC:                            -744.1\n",
      "Df Residuals:                         2352   BIC:                            -732.6\n",
      "Df Model:                                1                                         \n",
      "Covariance Type:                 nonrobust                                         \n",
      "==============================================================================\n",
      "                 coef    std err          t      P>|t|      [0.025      0.975]\n",
      "------------------------------------------------------------------------------\n",
      "Intercept      0.0418      0.007      6.342      0.000       0.029       0.055\n",
      "treatment      0.0047      0.009      0.549      0.583      -0.012       0.022\n",
      "==============================================================================\n",
      "Omnibus:                     2066.211   Durbin-Watson:                   1.913\n",
      "Prob(Omnibus):                  0.000   Jarque-Bera (JB):            37539.224\n",
      "Skew:                           4.411   Prob(JB):                         0.00\n",
      "Kurtosis:                      20.461   Cond. No.                         2.86\n",
      "==============================================================================\n",
      "\n",
      "Notes:\n",
      "[1] Standard Errors assume that the covariance matrix of the errors is correctly specified.\n"
     ]
    }
   ],
   "source": [
    "# hyperglyceridemia\n",
    "hyperglyceridemia_ols = smf.ols(formula='hyperglyceridemia_diag2 ~ treatment', data = data_hyperglyceridemia).fit()\n",
    "print(hyperglyceridemia_ols.summary())"
   ]
  },
  {
   "cell_type": "markdown",
   "metadata": {},
   "source": [
    "Through simple OLS model of diagnosis code to treatment, I found that treatment has negative effect on diabetes and hypertensive diagnosis, and they are statistically significant with small p-values. However, the low r-squareds(close to 0) shows that the models does not have enough power to explian the dependent variables\n",
    "\n",
    "I will apply double-lasso regression to control Endogeneity. The first stage of double - lasso will reduce dimensionality, and the second stage will control the confounding effects"
   ]
  },
  {
   "cell_type": "markdown",
   "metadata": {},
   "source": [
    "## 4. Model Development"
   ]
  },
  {
   "cell_type": "code",
   "execution_count": 208,
   "metadata": {},
   "outputs": [],
   "source": [
    "import numpy as np\n",
    "\n",
    "class SelectiveRegularizationLinearRegression:\n",
    "    def __init__(self, alpha, apply_penalty, tolerance=1e-4, max_iterations=1000):\n",
    "        self.alpha = alpha\n",
    "        self.tolerance = tolerance\n",
    "        self.apply_penalty = apply_penalty\n",
    "        self.max_iterations = max_iterations\n",
    "        self.w = None\n",
    "        \n",
    "    def _predicted_values(self, X, w):\n",
    "        return np.matmul(X, w)\n",
    "\n",
    "    def _rho_compute(self, y, X, w, j):\n",
    "        X_k = np.delete(X, j, 1)\n",
    "        w_k = np.delete(w, j)\n",
    "        predict_k = self._predicted_values(X_k, w_k)\n",
    "        residual = y - predict_k\n",
    "        rho_j = np.sum(X[:, j] * residual)\n",
    "        return rho_j\n",
    "\n",
    "    def _z_compute(self, X):\n",
    "        return np.sum(X * X, axis=0)\n",
    "    \n",
    "    def fit(self, X, y):\n",
    "        n_samples, n_features = X.shape\n",
    "        if not self.w:\n",
    "            self.w = np.zeros(n_features)\n",
    "        z = self._z_compute(X)\n",
    "        for iteration in range(self.max_iterations):\n",
    "            max_step = 0\n",
    "            for j in range(n_features):\n",
    "                rho_j = self._rho_compute(y, X, self.w, j)\n",
    "                w_j_old = self.w[j]\n",
    "                if j == 0:\n",
    "                    self.w[j] = rho_j / z[j]\n",
    "                else:\n",
    "                    if self.apply_penalty[j]:\n",
    "                        if rho_j < -self.alpha * n_samples:\n",
    "                            self.w[j] = (rho_j + self.alpha * n_samples) / z[j]\n",
    "                        elif -self.alpha * n_samples <= rho_j <= self.alpha * n_samples:\n",
    "                            self.w[j] = 0.\n",
    "                        elif rho_j > self.alpha * n_samples:\n",
    "                            self.w[j] = (rho_j - self.alpha * n_samples) / z[j]\n",
    "                    else:\n",
    "                        self.w[j] = rho_j / z[j]\n",
    "                max_step = max(max_step, abs(self.w[j] - w_j_old))\n",
    "            if max_step < self.tolerance:\n",
    "                break\n",
    "        return self\n",
    "\n",
    "    def predict(self, X):\n",
    "        if self.w is None:\n",
    "            raise ValueError(\"Model is not fitted yet!\")\n",
    "        return self._predicted_values(X, self.w)"
   ]
  },
  {
   "cell_type": "code",
   "execution_count": 209,
   "metadata": {},
   "outputs": [],
   "source": [
    "scaler = StandardScaler()\n",
    "X_obesity_scaled = scaler.fit_transform(X_obesity) "
   ]
  },
  {
   "cell_type": "code",
   "execution_count": 212,
   "metadata": {},
   "outputs": [
    {
     "data": {
      "image/png": "[encoded data removed]",
      "text/plain": [
       "<Figure size 640x480 with 1 Axes>"
      ]
     },
     "metadata": {},
     "output_type": "display_data"
    }
   ],
   "source": [
    "# Stage 1: estimate treatment propensities(d_hat) with lasso regression\n",
    "obesity_lasso = LassoCV(cv=5).fit(X_obesity_scaled, d_obesity)\n",
    "d_hat_obesity = obesity_lasso.predict(X_obesity_scaled) \n",
    "plt.hist(d_hat_obesity)\n",
    "plt.show()"
   ]
  },
  {
   "cell_type": "code",
   "execution_count": 218,
   "metadata": {},
   "outputs": [],
   "source": [
    "# Run the second lasso\n",
    "lasso_obesity_2 = LassoCV(cv=5, max_iter=10000).fit(X_obesity_scaled, y_obesity)"
   ]
  },
  {
   "cell_type": "code",
   "execution_count": 249,
   "metadata": {},
   "outputs": [],
   "source": [
    "# Extract selected variables from X \n",
    "X_scaled_df_obesity = pd.DataFrame(X_obesity_scaled, index=X_obesity.index, columns=X_obesity.columns)\n",
    "\n",
    "# Convert d and d_hat to series for concat\n",
    "d_series_obesity = pd.Series(d_obesity, index=X_scaled_df_obesity.index, name='treatment')\n",
    "d_hat_series_obesity = pd.Series(d_hat_obesity, index=X_scaled_df_obesity.index, name='d_hat')\n",
    "\n",
    "# Add d_hat and treatment indicator to X_train_scaled\n",
    "X_final_obesity = pd.concat([X_scaled_df_obesity, d_series_obesity, d_hat_series_obesity], axis=1)\n",
    "\n",
    "# Add intercept manually before fitting model\n",
    "X_final_obesity = sm.add_constant(X_final_obesity)"
   ]
  },
  {
   "cell_type": "code",
   "execution_count": 220,
   "metadata": {},
   "outputs": [
    {
     "name": "stdout",
     "output_type": "stream",
     "text": [
      "<class 'pandas.core.frame.DataFrame'>\n",
      "Int64Index: 1338 entries, 29 to 65004\n",
      "Data columns (total 47 columns):\n",
      " #   Column                                     Non-Null Count  Dtype  \n",
      "---  ------                                     --------------  -----  \n",
      " 0   const                                      1338 non-null   float64\n",
      " 1   quantity_dispensed                         1338 non-null   float64\n",
      " 2   days_supply                                1338 non-null   float64\n",
      " 3   patient_age                                1338 non-null   float64\n",
      " 4   patient_state_AL                           1338 non-null   float64\n",
      " 5   patient_state_AZ                           1338 non-null   float64\n",
      " 6   patient_state_CA                           1338 non-null   float64\n",
      " 7   patient_short_zip_351.0                    1338 non-null   float64\n",
      " 8   patient_short_zip_352.0                    1338 non-null   float64\n",
      " 9   patient_short_zip_442.0                    1338 non-null   float64\n",
      " 10  patient_short_zip_606.0                    1338 non-null   float64\n",
      " 11  patient_short_zip_852.0                    1338 non-null   float64\n",
      " 12  patient_short_zip_853.0                    1338 non-null   float64\n",
      " 13  patient_short_zip_855.0                    1338 non-null   float64\n",
      " 14  patient_short_zip_856.0                    1338 non-null   float64\n",
      " 15  patient_short_zip_857.0                    1338 non-null   float64\n",
      " 16  patient_short_zip_859.0                    1338 non-null   float64\n",
      " 17  patient_short_zip_860.0                    1338 non-null   float64\n",
      " 18  patient_short_zip_863.0                    1338 non-null   float64\n",
      " 19  patient_short_zip_864.0                    1338 non-null   float64\n",
      " 20  patient_short_zip_891.0                    1338 non-null   float64\n",
      " 21  patient_short_zip_895.0                    1338 non-null   float64\n",
      " 22  patient_short_zip_900.0                    1338 non-null   float64\n",
      " 23  patient_short_zip_908.0                    1338 non-null   float64\n",
      " 24  patient_short_zip_910.0                    1338 non-null   float64\n",
      " 25  patient_short_zip_911.0                    1338 non-null   float64\n",
      " 26  patient_short_zip_912.0                    1338 non-null   float64\n",
      " 27  patient_short_zip_913.0                    1338 non-null   float64\n",
      " 28  patient_short_zip_921.0                    1338 non-null   float64\n",
      " 29  patient_short_zip_922.0                    1338 non-null   float64\n",
      " 30  patient_short_zip_923.0                    1338 non-null   float64\n",
      " 31  patient_short_zip_933.0                    1338 non-null   float64\n",
      " 32  patient_short_zip_995.0                    1338 non-null   float64\n",
      " 33  patient_short_zip_996.0                    1338 non-null   float64\n",
      " 34  patient_short_zip_997.0                    1338 non-null   float64\n",
      " 35  patient_gender_M                           1338 non-null   float64\n",
      " 36  visit_type_emergency room visit            1338 non-null   float64\n",
      " 37  visit_type_home visit                      1338 non-null   float64\n",
      " 38  visit_type_inpatient visit                 1338 non-null   float64\n",
      " 39  visit_type_laboratory visit                1338 non-null   float64\n",
      " 40  visit_type_non-hospital institution visit  1338 non-null   float64\n",
      " 41  visit_type_outpatient visit                1338 non-null   float64\n",
      " 42  visit_type_pharmacy visit                  1338 non-null   float64\n",
      " 43  year                                       1338 non-null   float64\n",
      " 44  month                                      1338 non-null   float64\n",
      " 45  treatment                                  1338 non-null   int64  \n",
      " 46  d_hat                                      1338 non-null   float64\n",
      "dtypes: float64(46), int64(1)\n",
      "memory usage: 501.8 KB\n"
     ]
    }
   ],
   "source": [
    "X_final_obesity.info()"
   ]
  },
  {
   "cell_type": "code",
   "execution_count": 252,
   "metadata": {},
   "outputs": [
    {
     "data": {
      "text/plain": [
       "<__main__.SelectiveRegularizationLinearRegression at 0x7fc44c7e9c70>"
      ]
     },
     "execution_count": 252,
     "metadata": {},
     "output_type": "execute_result"
    }
   ],
   "source": [
    "# Stage 2-2:Conduct the partial lasso, to keep treatment and d_hat unpenalized\n",
    "apply_penalty = np.array([True] * 46 + [False, False])\n",
    "alpha = 0.001 # L1 penalty term\n",
    "max_iterations = 1000 # Optional, determines how long the model will look for an l1 penalty\n",
    "model = SelectiveRegularizationLinearRegression(alpha, apply_penalty, max_iterations)\n",
    "model.fit(X_final_obesity.values, y_obesity.values)"
   ]
  },
  {
   "cell_type": "code",
   "execution_count": 253,
   "metadata": {},
   "outputs": [
    {
     "name": "stdout",
     "output_type": "stream",
     "text": [
      "const: 0.06427503736920777\n",
      "quantity_dispensed: -0.01367774925938001\n",
      "days_supply: -0.0037942210897392546\n",
      "patient_age: -0.01224172378625676\n",
      "patient_state_AL: -0.0013197381032558726\n",
      "patient_state_AZ: -0.004541233340312538\n",
      "patient_state_CA: 0.00024302624659504292\n",
      "patient_short_zip_351.0: 0.0\n",
      "patient_short_zip_352.0: 0.0\n",
      "patient_short_zip_442.0: 0.0\n",
      "patient_short_zip_606.0: 0.0\n",
      "patient_short_zip_852.0: 0.0\n",
      "patient_short_zip_853.0: 0.0\n",
      "patient_short_zip_855.0: 0.0\n",
      "patient_short_zip_856.0: 0.0\n",
      "patient_short_zip_857.0: 0.0\n",
      "patient_short_zip_859.0: 0.0\n",
      "patient_short_zip_860.0: 0.0\n",
      "patient_short_zip_863.0: 0.0\n",
      "patient_short_zip_864.0: 0.0\n",
      "patient_short_zip_891.0: 0.0\n",
      "patient_short_zip_895.0: 0.0\n",
      "patient_short_zip_900.0: 0.0018837927207040947\n",
      "patient_short_zip_908.0: -0.008288348306376815\n",
      "patient_short_zip_910.0: 0.028872105930245417\n",
      "patient_short_zip_911.0: 0.009137457575940875\n",
      "patient_short_zip_912.0: 0.0008343126395043709\n",
      "patient_short_zip_913.0: -0.008917454832318511\n",
      "patient_short_zip_921.0: 0.016235236926512412\n",
      "patient_short_zip_922.0: -0.01714427581071283\n",
      "patient_short_zip_923.0: 0.0\n",
      "patient_short_zip_933.0: 0.0\n",
      "patient_short_zip_995.0: 0.0\n",
      "patient_short_zip_996.0: 0.0\n",
      "patient_short_zip_997.0: 0.0\n",
      "patient_gender_M: 0.016054982497350465\n",
      "visit_type_emergency room visit: -0.002976586049674232\n",
      "visit_type_home visit: -0.009294324185982233\n",
      "visit_type_inpatient visit: -0.01683772583474565\n",
      "visit_type_laboratory visit: -0.020920032753048042\n",
      "visit_type_non-hospital institution visit: -0.015412971080330264\n",
      "visit_type_outpatient visit: 0.005574438252259087\n",
      "visit_type_pharmacy visit: 0.0\n",
      "year: -0.010083332441255713\n",
      "month: 0.0\n",
      "treatment: -0.00526534786315641\n",
      "d_hat: 0.007666493319450938\n"
     ]
    }
   ],
   "source": [
    "# Print the learned coefficients along with the variable names\n",
    "coefficients = model.w\n",
    "variable_names = X_final_obesity\n",
    "\n",
    "# Create a dictionary to map variable names to the coefficients\n",
    "coef_dict = {name: coef for name, coef in zip(variable_names, coefficients)}\n",
    "\n",
    "# Print out the final result\n",
    "for variable, coef in coef_dict.items():\n",
    "    print(f\"{variable}: {coef}\")"
   ]
  },
  {
   "cell_type": "markdown",
   "metadata": {},
   "source": [
    "### Hypertensive"
   ]
  },
  {
   "cell_type": "code",
   "execution_count": 255,
   "metadata": {},
   "outputs": [
    {
     "data": {
      "image/png": "[encoded data removed]",
      "text/plain": [
       "<Figure size 640x480 with 1 Axes>"
      ]
     },
     "metadata": {},
     "output_type": "display_data"
    }
   ],
   "source": [
    "X_Hypertensive_scaled = scaler.fit_transform(X_hypertensive)\n",
    "# Stage 1: estimate treatment propensities(d_hat) with lasso regression\n",
    "hypertensive_lasso = LassoCV(cv=5).fit(X_hypertensive, d_hypertensive)\n",
    "d_hat_hypertensive = hypertensive_lasso.predict(X_hypertensive) \n",
    "plt.hist(d_hat_hypertensive)\n",
    "plt.show()"
   ]
  },
  {
   "cell_type": "code",
   "execution_count": 259,
   "metadata": {},
   "outputs": [],
   "source": [
    "lasso_hyperhensive2 = LassoCV(cv=5, max_iter=10000).fit(X_Hypertensive_scaled, y_hypertensive)"
   ]
  },
  {
   "cell_type": "code",
   "execution_count": 260,
   "metadata": {},
   "outputs": [],
   "source": [
    "\n",
    "X_scaled_df_hypertensive = pd.DataFrame(X_Hypertensive_scaled, index=X_hypertensive.index, columns=X_hypertensive.columns)\n",
    "\n",
    "# Convert d and d_hat to series for concat\n",
    "d_series_hypertensive = pd.Series(d_hypertensive, index=X_scaled_df_hypertensive.index, name='treatment')\n",
    "d_hat_series_hypertensive = pd.Series(d_hat_hypertensive, index=X_scaled_df_hypertensive.index, name='d_hat')\n",
    "\n",
    "# Add d_hat and treatment indicator to X_train_scaled\n",
    "X_final_hypertensive = pd.concat([X_scaled_df_hypertensive, d_series_hypertensive, d_hat_series_hypertensive], axis=1)\n",
    "\n",
    "# Add intercept manually before fitting model\n",
    "X_final_hypertensive = sm.add_constant(X_final_hypertensive)"
   ]
  },
  {
   "cell_type": "code",
   "execution_count": 263,
   "metadata": {},
   "outputs": [
    {
     "name": "stdout",
     "output_type": "stream",
     "text": [
      "<class 'pandas.core.frame.DataFrame'>\n",
      "Int64Index: 9708 entries, 18 to 65087\n",
      "Data columns (total 47 columns):\n",
      " #   Column                                     Non-Null Count  Dtype  \n",
      "---  ------                                     --------------  -----  \n",
      " 0   const                                      9708 non-null   float64\n",
      " 1   quantity_dispensed                         9708 non-null   float64\n",
      " 2   days_supply                                9708 non-null   float64\n",
      " 3   patient_age                                9708 non-null   float64\n",
      " 4   patient_state_AL                           9708 non-null   float64\n",
      " 5   patient_state_AZ                           9708 non-null   float64\n",
      " 6   patient_state_CA                           9708 non-null   float64\n",
      " 7   patient_short_zip_351.0                    9708 non-null   float64\n",
      " 8   patient_short_zip_352.0                    9708 non-null   float64\n",
      " 9   patient_short_zip_442.0                    9708 non-null   float64\n",
      " 10  patient_short_zip_606.0                    9708 non-null   float64\n",
      " 11  patient_short_zip_852.0                    9708 non-null   float64\n",
      " 12  patient_short_zip_853.0                    9708 non-null   float64\n",
      " 13  patient_short_zip_855.0                    9708 non-null   float64\n",
      " 14  patient_short_zip_856.0                    9708 non-null   float64\n",
      " 15  patient_short_zip_857.0                    9708 non-null   float64\n",
      " 16  patient_short_zip_859.0                    9708 non-null   float64\n",
      " 17  patient_short_zip_860.0                    9708 non-null   float64\n",
      " 18  patient_short_zip_863.0                    9708 non-null   float64\n",
      " 19  patient_short_zip_864.0                    9708 non-null   float64\n",
      " 20  patient_short_zip_891.0                    9708 non-null   float64\n",
      " 21  patient_short_zip_895.0                    9708 non-null   float64\n",
      " 22  patient_short_zip_900.0                    9708 non-null   float64\n",
      " 23  patient_short_zip_908.0                    9708 non-null   float64\n",
      " 24  patient_short_zip_910.0                    9708 non-null   float64\n",
      " 25  patient_short_zip_911.0                    9708 non-null   float64\n",
      " 26  patient_short_zip_912.0                    9708 non-null   float64\n",
      " 27  patient_short_zip_913.0                    9708 non-null   float64\n",
      " 28  patient_short_zip_921.0                    9708 non-null   float64\n",
      " 29  patient_short_zip_922.0                    9708 non-null   float64\n",
      " 30  patient_short_zip_923.0                    9708 non-null   float64\n",
      " 31  patient_short_zip_933.0                    9708 non-null   float64\n",
      " 32  patient_short_zip_995.0                    9708 non-null   float64\n",
      " 33  patient_short_zip_996.0                    9708 non-null   float64\n",
      " 34  patient_short_zip_997.0                    9708 non-null   float64\n",
      " 35  patient_gender_M                           9708 non-null   float64\n",
      " 36  visit_type_emergency room visit            9708 non-null   float64\n",
      " 37  visit_type_home visit                      9708 non-null   float64\n",
      " 38  visit_type_inpatient visit                 9708 non-null   float64\n",
      " 39  visit_type_laboratory visit                9708 non-null   float64\n",
      " 40  visit_type_non-hospital institution visit  9708 non-null   float64\n",
      " 41  visit_type_outpatient visit                9708 non-null   float64\n",
      " 42  visit_type_pharmacy visit                  9708 non-null   float64\n",
      " 43  year                                       9708 non-null   float64\n",
      " 44  month                                      9708 non-null   float64\n",
      " 45  treatment                                  9708 non-null   int64  \n",
      " 46  d_hat                                      9708 non-null   float64\n",
      "dtypes: float64(46), int64(1)\n",
      "memory usage: 3.6 MB\n"
     ]
    }
   ],
   "source": [
    "X_final_hypertensive.info()"
   ]
  },
  {
   "cell_type": "code",
   "execution_count": 265,
   "metadata": {},
   "outputs": [
    {
     "data": {
      "text/plain": [
       "<__main__.SelectiveRegularizationLinearRegression at 0x7fc47962a190>"
      ]
     },
     "execution_count": 265,
     "metadata": {},
     "output_type": "execute_result"
    }
   ],
   "source": [
    "# Stage 2-2:Conduct the partial lasso, to keep treatment and d_hat unpenalized\n",
    "apply_penalty = np.array([True] * 45 + [False, False])\n",
    "alpha = 0.001 # L1 penalty term\n",
    "max_iterations = 1000 # Optional, determines how long the model will look for an l1 penalty\n",
    "model = SelectiveRegularizationLinearRegression(alpha, apply_penalty, max_iterations)\n",
    "model.fit(X_final_hypertensive.values, y_hypertensive.values)"
   ]
  },
  {
   "cell_type": "code",
   "execution_count": 266,
   "metadata": {},
   "outputs": [
    {
     "name": "stdout",
     "output_type": "stream",
     "text": [
      "const: 0.049134734239802226\n",
      "quantity_dispensed: -0.004873890688024193\n",
      "days_supply: -0.0008274311906171285\n",
      "patient_age: -0.013957102514571695\n",
      "patient_state_AL: 0.0\n",
      "patient_state_AZ: 0.0013997222538975685\n",
      "patient_state_CA: 0.0\n",
      "patient_short_zip_351.0: 0.0\n",
      "patient_short_zip_352.0: 0.0\n",
      "patient_short_zip_442.0: 0.0\n",
      "patient_short_zip_606.0: 0.0\n",
      "patient_short_zip_852.0: -0.0023368347747072136\n",
      "patient_short_zip_853.0: -0.003523224448032762\n",
      "patient_short_zip_855.0: 0.0\n",
      "patient_short_zip_856.0: 0.010817043918851237\n",
      "patient_short_zip_857.0: 0.003939159857953565\n",
      "patient_short_zip_859.0: -0.00017230254444173854\n",
      "patient_short_zip_860.0: 0.00396968158694622\n",
      "patient_short_zip_863.0: 0.0\n",
      "patient_short_zip_864.0: -0.0005724735980215006\n",
      "patient_short_zip_891.0: 0.0\n",
      "patient_short_zip_895.0: 0.0\n",
      "patient_short_zip_900.0: 0.007430599861279329\n",
      "patient_short_zip_908.0: 0.004757629407497119\n",
      "patient_short_zip_910.0: 0.005569568674784932\n",
      "patient_short_zip_911.0: 0.0037527401108937487\n",
      "patient_short_zip_912.0: 0.004610252594623998\n",
      "patient_short_zip_913.0: 0.0\n",
      "patient_short_zip_921.0: 0.01031604784255635\n",
      "patient_short_zip_922.0: -0.012347787065995833\n",
      "patient_short_zip_923.0: 0.0\n",
      "patient_short_zip_933.0: 0.0\n",
      "patient_short_zip_995.0: 0.0\n",
      "patient_short_zip_996.0: 0.0\n",
      "patient_short_zip_997.0: 0.0\n",
      "patient_gender_M: -0.00026635542809831723\n",
      "visit_type_emergency room visit: -0.0010195213311378056\n",
      "visit_type_home visit: -0.006549249533924647\n",
      "visit_type_inpatient visit: -0.0022025751047947285\n",
      "visit_type_laboratory visit: -0.022776879289705475\n",
      "visit_type_non-hospital institution visit: -0.013606151475860402\n",
      "visit_type_outpatient visit: 0.003966794709484945\n",
      "visit_type_pharmacy visit: 0.0\n",
      "year: 0.0011594039575957907\n",
      "month: -0.0009168383598769534\n",
      "treatment: -0.0002370506909185703\n",
      "d_hat: 0.001697396029483035\n"
     ]
    }
   ],
   "source": [
    "# Print the learned coefficients along with the variable names\n",
    "coefficients = model.w\n",
    "variable_names = X_final_hypertensive\n",
    "\n",
    "# Create a dictionary to map variable names to the coefficients\n",
    "coef_dict = {name: coef for name, coef in zip(variable_names, coefficients)}\n",
    "\n",
    "# Print out the final result\n",
    "for variable, coef in coef_dict.items():\n",
    "    print(f\"{variable}: {coef}\")"
   ]
  },
  {
   "cell_type": "markdown",
   "metadata": {},
   "source": [
    "### Diabetes"
   ]
  },
  {
   "cell_type": "code",
   "execution_count": 268,
   "metadata": {},
   "outputs": [],
   "source": [
    "X_diabetes_scaled = scaler.fit_transform(X_diabetes) # Scale the X variables first\n",
    "\n",
    "# Stage 1: estimate treatment propensities(d_hat) with lasso regression\n",
    "lasso_1_diabetes = LassoCV(cv=5, max_iter=10000).fit(X_diabetes_scaled, d_diabetes)\n",
    "d_hat_d = lasso_1_diabetes.predict(X_diabetes_scaled)  # predict treatment propensities(d hat)"
   ]
  },
  {
   "cell_type": "code",
   "execution_count": 269,
   "metadata": {},
   "outputs": [
    {
     "data": {
      "image/png": "[encoded data removed]",
      "text/plain": [
       "<Figure size 640x480 with 1 Axes>"
      ]
     },
     "metadata": {},
     "output_type": "display_data"
    }
   ],
   "source": [
    "#  Run another Lasso for variable selection\n",
    "lasso_2_diabetes = LassoCV(cv=5, max_iter=10000).fit(X_diabetes_scaled, y_diabetes)\n",
    "d_hat_diabetes = hypertensive_lasso.predict(X_diabetes) \n",
    "plt.hist(d_hat_diabetes)\n",
    "plt.show()"
   ]
  },
  {
   "cell_type": "code",
   "execution_count": 270,
   "metadata": {},
   "outputs": [],
   "source": [
    "\n",
    "X_scaled_df_diabetes = pd.DataFrame(X_diabetes_scaled, index=X_diabetes.index, columns=X_diabetes.columns)\n",
    "\n",
    "# Convert d and d_hat to series for concat\n",
    "d_series_diabetes = pd.Series(d_diabetes, index=X_scaled_df_diabetes.index, name='treatment')\n",
    "d_hat_series_diabetes = pd.Series(d_hat_diabetes, index=X_scaled_df_diabetes.index, name='d_hat')\n",
    "\n",
    "# Add d_hat and treatment indicator to X_train_scaled\n",
    "X_final_diabetes = pd.concat([X_scaled_df_diabetes, d_series_diabetes, d_hat_series_diabetes], axis=1)\n",
    "\n",
    "# Add intercept manually before fitting model\n",
    "X_final_diabetes = sm.add_constant(X_final_diabetes)"
   ]
  },
  {
   "cell_type": "code",
   "execution_count": 271,
   "metadata": {},
   "outputs": [
    {
     "name": "stdout",
     "output_type": "stream",
     "text": [
      "<class 'pandas.core.frame.DataFrame'>\n",
      "Int64Index: 12736 entries, 3 to 65080\n",
      "Data columns (total 47 columns):\n",
      " #   Column                                     Non-Null Count  Dtype  \n",
      "---  ------                                     --------------  -----  \n",
      " 0   const                                      12736 non-null  float64\n",
      " 1   quantity_dispensed                         12736 non-null  float64\n",
      " 2   days_supply                                12736 non-null  float64\n",
      " 3   patient_age                                12736 non-null  float64\n",
      " 4   patient_state_AL                           12736 non-null  float64\n",
      " 5   patient_state_AZ                           12736 non-null  float64\n",
      " 6   patient_state_CA                           12736 non-null  float64\n",
      " 7   patient_short_zip_351.0                    12736 non-null  float64\n",
      " 8   patient_short_zip_352.0                    12736 non-null  float64\n",
      " 9   patient_short_zip_442.0                    12736 non-null  float64\n",
      " 10  patient_short_zip_606.0                    12736 non-null  float64\n",
      " 11  patient_short_zip_852.0                    12736 non-null  float64\n",
      " 12  patient_short_zip_853.0                    12736 non-null  float64\n",
      " 13  patient_short_zip_855.0                    12736 non-null  float64\n",
      " 14  patient_short_zip_856.0                    12736 non-null  float64\n",
      " 15  patient_short_zip_857.0                    12736 non-null  float64\n",
      " 16  patient_short_zip_859.0                    12736 non-null  float64\n",
      " 17  patient_short_zip_860.0                    12736 non-null  float64\n",
      " 18  patient_short_zip_863.0                    12736 non-null  float64\n",
      " 19  patient_short_zip_864.0                    12736 non-null  float64\n",
      " 20  patient_short_zip_891.0                    12736 non-null  float64\n",
      " 21  patient_short_zip_895.0                    12736 non-null  float64\n",
      " 22  patient_short_zip_900.0                    12736 non-null  float64\n",
      " 23  patient_short_zip_908.0                    12736 non-null  float64\n",
      " 24  patient_short_zip_910.0                    12736 non-null  float64\n",
      " 25  patient_short_zip_911.0                    12736 non-null  float64\n",
      " 26  patient_short_zip_912.0                    12736 non-null  float64\n",
      " 27  patient_short_zip_913.0                    12736 non-null  float64\n",
      " 28  patient_short_zip_921.0                    12736 non-null  float64\n",
      " 29  patient_short_zip_922.0                    12736 non-null  float64\n",
      " 30  patient_short_zip_923.0                    12736 non-null  float64\n",
      " 31  patient_short_zip_933.0                    12736 non-null  float64\n",
      " 32  patient_short_zip_995.0                    12736 non-null  float64\n",
      " 33  patient_short_zip_996.0                    12736 non-null  float64\n",
      " 34  patient_short_zip_997.0                    12736 non-null  float64\n",
      " 35  patient_gender_M                           12736 non-null  float64\n",
      " 36  visit_type_emergency room visit            12736 non-null  float64\n",
      " 37  visit_type_home visit                      12736 non-null  float64\n",
      " 38  visit_type_inpatient visit                 12736 non-null  float64\n",
      " 39  visit_type_laboratory visit                12736 non-null  float64\n",
      " 40  visit_type_non-hospital institution visit  12736 non-null  float64\n",
      " 41  visit_type_outpatient visit                12736 non-null  float64\n",
      " 42  visit_type_pharmacy visit                  12736 non-null  float64\n",
      " 43  year                                       12736 non-null  float64\n",
      " 44  month                                      12736 non-null  float64\n",
      " 45  treatment                                  12736 non-null  int64  \n",
      " 46  d_hat                                      12736 non-null  float64\n",
      "dtypes: float64(46), int64(1)\n",
      "memory usage: 4.7 MB\n"
     ]
    }
   ],
   "source": [
    "X_final_diabetes.info()"
   ]
  },
  {
   "cell_type": "code",
   "execution_count": 272,
   "metadata": {},
   "outputs": [
    {
     "data": {
      "text/plain": [
       "<__main__.SelectiveRegularizationLinearRegression at 0x7fc405679370>"
      ]
     },
     "execution_count": 272,
     "metadata": {},
     "output_type": "execute_result"
    }
   ],
   "source": [
    "# Stage 2-2:Conduct the partial lasso, to keep treatment and d_hat unpenalized\n",
    "apply_penalty = np.array([True] * 45 + [False, False])\n",
    "alpha = 0.001 # L1 penalty term\n",
    "max_iterations = 1000 # Optional, determines how long the model will look for an l1 penalty\n",
    "model = SelectiveRegularizationLinearRegression(alpha, apply_penalty, max_iterations)\n",
    "model.fit(X_final_diabetes.values, y_diabetes.values)"
   ]
  },
  {
   "cell_type": "code",
   "execution_count": 273,
   "metadata": {},
   "outputs": [
    {
     "name": "stdout",
     "output_type": "stream",
     "text": [
      "const: 0.12806218592964824\n",
      "quantity_dispensed: 0.0\n",
      "days_supply: 0.0\n",
      "patient_age: -0.012741078136722903\n",
      "patient_state_AL: 0.0006006219795144117\n",
      "patient_state_AZ: -0.007551130410439328\n",
      "patient_state_CA: 0.00018908707317558855\n",
      "patient_short_zip_351.0: -0.00025183837650403563\n",
      "patient_short_zip_352.0: 0.0\n",
      "patient_short_zip_442.0: -0.0007979411935036298\n",
      "patient_short_zip_606.0: 0.0\n",
      "patient_short_zip_852.0: 0.0\n",
      "patient_short_zip_853.0: -0.0018665229136459501\n",
      "patient_short_zip_855.0: 0.0\n",
      "patient_short_zip_856.0: -0.0007981222360856485\n",
      "patient_short_zip_857.0: 0.001972776618438073\n",
      "patient_short_zip_859.0: 0.0007697749559852113\n",
      "patient_short_zip_860.0: 0.0\n",
      "patient_short_zip_863.0: 0.007472340842183376\n",
      "patient_short_zip_864.0: -0.000934601757867163\n",
      "patient_short_zip_891.0: 0.0\n",
      "patient_short_zip_895.0: -0.0001475933036109231\n",
      "patient_short_zip_900.0: 0.006786326506586971\n",
      "patient_short_zip_908.0: 0.004948226755993534\n",
      "patient_short_zip_910.0: 0.00797828198325554\n",
      "patient_short_zip_911.0: 0.004867708144944505\n",
      "patient_short_zip_912.0: 0.0036225586124437564\n",
      "patient_short_zip_913.0: -0.004245592058629222\n",
      "patient_short_zip_921.0: 0.012003333781193254\n",
      "patient_short_zip_922.0: -0.012374937777059787\n",
      "patient_short_zip_923.0: 0.0\n",
      "patient_short_zip_933.0: 0.0\n",
      "patient_short_zip_995.0: 0.0\n",
      "patient_short_zip_996.0: -0.0002576863379889123\n",
      "patient_short_zip_997.0: -0.0008624313964915038\n",
      "patient_gender_M: 0.008922217526703722\n",
      "visit_type_emergency room visit: -0.0008702930673738344\n",
      "visit_type_home visit: -0.012865992211876844\n",
      "visit_type_inpatient visit: 0.004189235268229383\n",
      "visit_type_laboratory visit: -0.04205129320556682\n",
      "visit_type_non-hospital institution visit: -0.016381267568573065\n",
      "visit_type_outpatient visit: 0.005534470242311245\n",
      "visit_type_pharmacy visit: 0.0\n",
      "year: 0.0007049177546549859\n",
      "month: -0.004866875159831634\n",
      "treatment: 0.0032406428407697934\n",
      "d_hat: -0.0016028509516562825\n"
     ]
    }
   ],
   "source": [
    "# Print the learned coefficients along with the variable names\n",
    "coefficients = model.w\n",
    "variable_names = X_final_diabetes\n",
    "\n",
    "# Create a dictionary to map variable names to the coefficients\n",
    "coef_dict = {name: coef for name, coef in zip(variable_names, coefficients)}\n",
    "\n",
    "# Print out the final result\n",
    "for variable, coef in coef_dict.items():\n",
    "    print(f\"{variable}: {coef}\")"
   ]
  },
  {
   "cell_type": "markdown",
   "metadata": {},
   "source": [
    "## 5. Model Evaluation and Interpretation"
   ]
  },
  {
   "cell_type": "markdown",
   "metadata": {},
   "source": [
    "### Obesity ~ Ozempic"
   ]
  },
  {
   "cell_type": "markdown",
   "metadata": {},
   "source": [
    "Treatment Effect: After patial lasso regression, the coefficient of treatment is -0.00526534786315641, meaning the Ozempic treatment has slight negative effect on Obesity \n",
    "\n",
    "Whats more. Some other factors such as geographic location of the patient seems to negatively impact obesity, like patient_short_zip_922.0: -0.01714427581071283, Males are more like to have obesity, patient_gender_M: 0.016054982497350465, and as time goes, patients are less likely to have obesity year: -0.010083332441255713. Most coefficients make sense in real life, some states might have better medical resources, or people there tend to eat healthier food, males generally weight more, and patients are more likely to intentionally lose weight once they are diagnosied obesity.\n",
    "\n",
    "I included all the X variables into the second lasso regression because the confounding effects have been caught by d_hat\n",
    "\n"
   ]
  },
  {
   "cell_type": "markdown",
   "metadata": {},
   "source": [
    "### Hypertensive ~ Ozempic"
   ]
  },
  {
   "cell_type": "markdown",
   "metadata": {},
   "source": [
    "Treatment Effect: After patial lasso regression, I coefficient of treatment is -0.0002370506909185703, meaning the Ozempic treatment has slight negative effect on Obesity \n",
    "\n",
    "Other factors also come into place influencing hypertensive, for example, location: patient_short_zip_921.0: 0.01031604784255635\n",
    "patient_short_zip_922.0: -0.012347787065995833. But suprisingly, year has a positive effect on the Hypertensive diagnosis: year: 0.0011594039575957907\n",
    "\n",
    "I included all the X variables into the second lasso regression because the confounding effects have been caught by d_hat"
   ]
  },
  {
   "cell_type": "markdown",
   "metadata": {},
   "source": [
    "### Diabete ~ Ozempic"
   ]
  },
  {
   "cell_type": "markdown",
   "metadata": {},
   "source": [
    "The coefficient of treatment is a positive number: 0.0032406428407697934, impying that Ozempic will increase the likelyhood of being diagnosed diabete, which is a total suprise. It might because some important factors are not caught by the model.\n",
    "\n",
    "But as for this model, I have to call the Ozempic unrelated to diabete outcome\n",
    "\n",
    "I included all the X variables into the second lasso regression because the confounding effects have been caught by d_hat"
   ]
  },
  {
   "cell_type": "markdown",
   "metadata": {},
   "source": [
    "## 6. Additional Insights"
   ]
  },
  {
   "cell_type": "code",
   "execution_count": 312,
   "metadata": {},
   "outputs": [
    {
     "data": {
      "image/png": "[encoded data removed]",
      "text/plain": [
       "<Figure size 640x480 with 1 Axes>"
      ]
     },
     "metadata": {},
     "output_type": "display_data"
    }
   ],
   "source": [
    "# Medical_edited datafram has been changed to that only patients diagnosed ill will remin in the dataframe, so distribution of zip will show the distribution of patients\n",
    "sns.histplot(medical_edited['patient_short_zip'].astype(str), bins = 20)\n",
    "plt.title('Patients Distribution by Zip')\n",
    "plt.xticks(rotation=45)\n",
    "plt.show()"
   ]
  },
  {
   "cell_type": "code",
   "execution_count": 310,
   "metadata": {},
   "outputs": [
    {
     "data": {
      "image/png": "[encoded data removed]",
      "text/plain": [
       "<Figure size 640x480 with 1 Axes>"
      ]
     },
     "metadata": {},
     "output_type": "display_data"
    }
   ],
   "source": [
    "sns.histplot(medical_edited['patient_short_zip'].astype(str), bins = 10)\n",
    "plt.title('Patients Distribution by Zip')\n",
    "plt.yscale('log') \n",
    "plt.xticks(rotation=45)\n",
    "plt.show()"
   ]
  },
  {
   "cell_type": "code",
   "execution_count": 290,
   "metadata": {},
   "outputs": [
    {
     "data": {
      "text/plain": [
       "Index(['journey_id', 'claim_date', 'patient_state', 'patient_short_zip',\n",
       "       'patient_age', 'patient_gender', 'visit_type', 'obesity_diag1',\n",
       "       'obesity_diag2', 'hypertensive_diag1', 'hypertensive_diag2',\n",
       "       'hyperglyceridemia_diag1', 'hyperglyceridemia_diag2', 'diabetes_diag1',\n",
       "       'diabetes_diag2'],\n",
       "      dtype='object')"
      ]
     },
     "execution_count": 290,
     "metadata": {},
     "output_type": "execute_result"
    }
   ],
   "source": [
    "medical_edited.columns"
   ]
  },
  {
   "cell_type": "code",
   "execution_count": 293,
   "metadata": {},
   "outputs": [],
   "source": [
    "# Create a dataframe where all observations have obesity_diag1 = 1\n",
    "obesity_df = medical_edited.query('obesity_diag1 == 1')"
   ]
  },
  {
   "cell_type": "code",
   "execution_count": 309,
   "metadata": {},
   "outputs": [
    {
     "data": {
      "image/png": "[encoded data removed]",
      "text/plain": [
       "<Figure size 640x480 with 1 Axes>"
      ]
     },
     "metadata": {},
     "output_type": "display_data"
    }
   ],
   "source": [
    "# Plot the obesity distribution by location\n",
    "sns.histplot(obesity_df['patient_short_zip'].astype(str), bins = 10)\n",
    "plt.yscale('log')\n",
    "plt.xticks(rotation=45)\n",
    "plt.ylabel('Obesity Patient Distribution by Zip')\n",
    "plt.show()"
   ]
  },
  {
   "cell_type": "code",
   "execution_count": 298,
   "metadata": {},
   "outputs": [],
   "source": [
    "# Create a dataframe where all observations have hypertensive_diag1 = 1\n",
    "hypertensive_df = medical_edited.query('hypertensive_diag1 == 1')"
   ]
  },
  {
   "cell_type": "code",
   "execution_count": 308,
   "metadata": {},
   "outputs": [
    {
     "data": {
      "image/png": "[encoded data removed]",
      "text/plain": [
       "<Figure size 640x480 with 1 Axes>"
      ]
     },
     "metadata": {},
     "output_type": "display_data"
    }
   ],
   "source": [
    "# Plot the obesity distribution by location\n",
    "sns.histplot(hypertensive_df['patient_short_zip'].astype(str), bins = 10)\n",
    "plt.yscale('log')\n",
    "plt.xticks(rotation=45)\n",
    "plt.ylabel('hypertensive Patient Distribution by Zip')\n",
    "plt.show()"
   ]
  },
  {
   "cell_type": "code",
   "execution_count": 301,
   "metadata": {},
   "outputs": [],
   "source": [
    "# Create a dataframe where all observations have diabetes_diag1 = 1\n",
    "diabetes_df = medical_edited.query('diabetes_diag1 == 1')"
   ]
  },
  {
   "cell_type": "code",
   "execution_count": 307,
   "metadata": {},
   "outputs": [
    {
     "data": {
      "image/png": "[encoded data removed]",
      "text/plain": [
       "<Figure size 640x480 with 1 Axes>"
      ]
     },
     "metadata": {},
     "output_type": "display_data"
    }
   ],
   "source": [
    "# Plot the obesity distribution by location\n",
    "sns.histplot(diabetes_df['patient_short_zip'].astype(str), bins = 10)\n",
    "plt.yscale('log')\n",
    "plt.xticks(rotation=45)\n",
    "plt.ylabel('diabetes Patient Distribution by Zip')\n",
    "plt.show()"
   ]
  },
  {
   "cell_type": "markdown",
   "metadata": {},
   "source": [
    "We can see from diagrams that some places have more residents diagnosed either obese, hypersive, or diabete. Meanwhile, some zip codes have more of one kind of patients than other kinds. For example, zip code 853 has more hypertensive patients and diabetes patients than obese patients.\n",
    "This might interact with the treatment effects because different places have different amount of patients, and some places might have less usage of Ozempic. Most importantly, my model doesn't catch the dose of Ozempic that each patient takes. these diagrams indicates that the models might need further improvement"
   ]
  },
  {
   "cell_type": "markdown",
   "metadata": {},
   "source": []
  }
 ],
 "metadata": {
  "kernelspec": {
   "display_name": "base",
   "language": "python",
   "name": "python3"
  },
  "language_info": {
   "codemirror_mode": {
    "name": "ipython",
    "version": 3
   },
   "file_extension": ".py",
   "mimetype": "text/x-python",
   "name": "python",
   "nbconvert_exporter": "python",
   "pygments_lexer": "ipython3",
   "version": "3.8.18"
  }
 },
 "nbformat": 4,
 "nbformat_minor": 2
}
